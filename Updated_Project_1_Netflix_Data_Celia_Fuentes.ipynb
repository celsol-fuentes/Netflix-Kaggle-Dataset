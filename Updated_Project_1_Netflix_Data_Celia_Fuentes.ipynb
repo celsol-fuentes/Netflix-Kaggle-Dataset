{
 "cells": [
  {
   "cell_type": "markdown",
   "metadata": {},
   "source": [
    "# PROJECT 1 RECAP\n",
    "\n",
    "In the first iteration of Project 1 with the Nextflix dataset, I had done some data exploration and visualization. Then I moved on to concentrating on South America, where the top three directors worked mainly in Stand-up and TV-MA movies.\n",
    "\n",
    "In this updated Project 1, I have scraped two datasets from imdb and have added them to make one huge dataset with the netflix data. I provide new visualization, and attempt a simple machine learning algorithm to attempt to predict the class of rating the movie/tv show belongs to."
   ]
  },
  {
   "cell_type": "code",
   "execution_count": 1,
   "metadata": {},
   "outputs": [],
   "source": [
    "import numpy as np \n",
    "import pandas as pd \n",
    "import requests\n",
    "import matplotlib.pyplot as plt\n",
    "import seaborn as sns"
   ]
  },
  {
   "cell_type": "markdown",
   "metadata": {},
   "source": [
    "# **NETFLIX DATASET**"
   ]
  },
  {
   "cell_type": "code",
   "execution_count": 2,
   "metadata": {},
   "outputs": [],
   "source": [
    "netflix = pd.read_csv('netflix_titles.csv')"
   ]
  },
  {
   "cell_type": "code",
   "execution_count": 3,
   "metadata": {
    "colab": {
     "base_uri": "https://localhost:8080/",
     "height": 683
    },
    "id": "JgLaSucE2mua",
    "outputId": "eb0433de-2cc9-4701-c425-f96d7f9a598f"
   },
   "outputs": [
    {
     "data": {
      "text/html": [
       "<div>\n",
       "<style scoped>\n",
       "    .dataframe tbody tr th:only-of-type {\n",
       "        vertical-align: middle;\n",
       "    }\n",
       "\n",
       "    .dataframe tbody tr th {\n",
       "        vertical-align: top;\n",
       "    }\n",
       "\n",
       "    .dataframe thead th {\n",
       "        text-align: right;\n",
       "    }\n",
       "</style>\n",
       "<table border=\"1\" class=\"dataframe\">\n",
       "  <thead>\n",
       "    <tr style=\"text-align: right;\">\n",
       "      <th></th>\n",
       "      <th>show_id</th>\n",
       "      <th>type</th>\n",
       "      <th>title</th>\n",
       "      <th>director</th>\n",
       "      <th>cast</th>\n",
       "      <th>country</th>\n",
       "      <th>date_added</th>\n",
       "      <th>release_year</th>\n",
       "      <th>rating</th>\n",
       "      <th>duration</th>\n",
       "      <th>listed_in</th>\n",
       "      <th>description</th>\n",
       "    </tr>\n",
       "  </thead>\n",
       "  <tbody>\n",
       "    <tr>\n",
       "      <th>0</th>\n",
       "      <td>s1</td>\n",
       "      <td>TV Show</td>\n",
       "      <td>3%</td>\n",
       "      <td>NaN</td>\n",
       "      <td>João Miguel, Bianca Comparato, Michel Gomes, R...</td>\n",
       "      <td>Brazil</td>\n",
       "      <td>August 14, 2020</td>\n",
       "      <td>2020</td>\n",
       "      <td>TV-MA</td>\n",
       "      <td>4 Seasons</td>\n",
       "      <td>International TV Shows, TV Dramas, TV Sci-Fi &amp;...</td>\n",
       "      <td>In a future where the elite inhabit an island ...</td>\n",
       "    </tr>\n",
       "  </tbody>\n",
       "</table>\n",
       "</div>"
      ],
      "text/plain": [
       "  show_id     type title director  \\\n",
       "0      s1  TV Show    3%      NaN   \n",
       "\n",
       "                                                cast country       date_added  \\\n",
       "0  João Miguel, Bianca Comparato, Michel Gomes, R...  Brazil  August 14, 2020   \n",
       "\n",
       "   release_year rating   duration  \\\n",
       "0          2020  TV-MA  4 Seasons   \n",
       "\n",
       "                                           listed_in  \\\n",
       "0  International TV Shows, TV Dramas, TV Sci-Fi &...   \n",
       "\n",
       "                                         description  \n",
       "0  In a future where the elite inhabit an island ...  "
      ]
     },
     "execution_count": 3,
     "metadata": {},
     "output_type": "execute_result"
    }
   ],
   "source": [
    "netflix.head(1)"
   ]
  },
  {
   "cell_type": "code",
   "execution_count": 4,
   "metadata": {
    "colab": {
     "base_uri": "https://localhost:8080/"
    },
    "id": "cR-GOK5N2mnV",
    "outputId": "74f6797c-6c7d-44aa-f994-9cf1d03d3235"
   },
   "outputs": [
    {
     "name": "stdout",
     "output_type": "stream",
     "text": [
      "<class 'pandas.core.frame.DataFrame'>\n",
      "RangeIndex: 7787 entries, 0 to 7786\n",
      "Data columns (total 12 columns):\n",
      " #   Column        Non-Null Count  Dtype \n",
      "---  ------        --------------  ----- \n",
      " 0   show_id       7787 non-null   object\n",
      " 1   type          7787 non-null   object\n",
      " 2   title         7787 non-null   object\n",
      " 3   director      5398 non-null   object\n",
      " 4   cast          7069 non-null   object\n",
      " 5   country       7280 non-null   object\n",
      " 6   date_added    7777 non-null   object\n",
      " 7   release_year  7787 non-null   int64 \n",
      " 8   rating        7780 non-null   object\n",
      " 9   duration      7787 non-null   object\n",
      " 10  listed_in     7787 non-null   object\n",
      " 11  description   7787 non-null   object\n",
      "dtypes: int64(1), object(11)\n",
      "memory usage: 730.2+ KB\n"
     ]
    }
   ],
   "source": [
    "netflix.info()"
   ]
  },
  {
   "cell_type": "markdown",
   "metadata": {
    "id": "tg9fCqqiBACa"
   },
   "source": [
    "## DATA CLEANING"
   ]
  },
  {
   "cell_type": "markdown",
   "metadata": {
    "id": "6KovKjmhy1hp"
   },
   "source": [
    "### Null Values"
   ]
  },
  {
   "cell_type": "code",
   "execution_count": 5,
   "metadata": {},
   "outputs": [
    {
     "data": {
      "text/plain": [
       "show_id            0\n",
       "type               0\n",
       "title              0\n",
       "director        2389\n",
       "cast             718\n",
       "country          507\n",
       "date_added        10\n",
       "release_year       0\n",
       "rating             7\n",
       "duration           0\n",
       "listed_in          0\n",
       "description        0\n",
       "dtype: int64"
      ]
     },
     "execution_count": 5,
     "metadata": {},
     "output_type": "execute_result"
    }
   ],
   "source": [
    "netflix.isnull().sum()"
   ]
  },
  {
   "cell_type": "code",
   "execution_count": 6,
   "metadata": {
    "colab": {
     "base_uri": "https://localhost:8080/"
    },
    "id": "JPA7TF-EBaBz",
    "outputId": "7877a74f-a140-4578-a71e-9d83d7fb3c05"
   },
   "outputs": [
    {
     "name": "stdout",
     "output_type": "stream",
     "text": [
      "'director' column NaN rate: 30.68%\n",
      "'cast' column NaN rate: 9.22%\n",
      "'country' column NaN rate: 6.51%\n",
      "'date_added' column NaN rate: 0.13%\n",
      "'rating' column NaN rate: 0.09%\n"
     ]
    }
   ],
   "source": [
    "for i in netflix.columns:\n",
    "    null_rate = netflix[i].isna().sum() / len(netflix) * 100 \n",
    "    if null_rate > 0 :\n",
    "        print(f\"'{i}' column NaN rate: {round(null_rate,2)}%\")"
   ]
  },
  {
   "cell_type": "markdown",
   "metadata": {
    "id": "I3PGKgU4Blpe"
   },
   "source": [
    "For the 'director', 'cast', 'country' and 'rating' columns, I've decided to replace the null values with 'not available'."
   ]
  },
  {
   "cell_type": "code",
   "execution_count": 7,
   "metadata": {
    "id": "xoIktBXjB3mu"
   },
   "outputs": [],
   "source": [
    "netflix['director'].replace(np.nan, 'not available', inplace=True)\n",
    "netflix['cast'].replace(np.nan, 'not available', inplace=True)\n",
    "netflix['country'].replace(np.nan, 'not available', inplace=True)\n",
    "netflix['rating'].replace(np.nan, 'not available', inplace=True)"
   ]
  },
  {
   "cell_type": "code",
   "execution_count": 8,
   "metadata": {},
   "outputs": [],
   "source": [
    "netflix.dropna(inplace=True)"
   ]
  },
  {
   "cell_type": "markdown",
   "metadata": {},
   "source": [
    "### Netflix Titles\n",
    "\n",
    "Different countries have different rules about handling titles. For example, English titles often have uppercase for nouns but not for verbs, or only the first word is capitalized in a French movie title, etc. To uniform them, I change all titles to lowercase."
   ]
  },
  {
   "cell_type": "code",
   "execution_count": 9,
   "metadata": {},
   "outputs": [],
   "source": [
    "netflix['title'] = netflix['title'].str.lower()"
   ]
  },
  {
   "cell_type": "markdown",
   "metadata": {},
   "source": [
    "# **IMDB DATASET**\n",
    "\n",
    "This section consists of webscraping two csv files with basic and ratings information, and performing data cleaning. Then I merge them into a \"imdb\" df, which is in turn followed by the merging of the netflix and imdb dfs into one df."
   ]
  },
  {
   "cell_type": "code",
   "execution_count": 10,
   "metadata": {},
   "outputs": [],
   "source": [
    "urls = ['https://datasets.imdbws.com/title.ratings.tsv.gz','https://datasets.imdbws.com/title.basics.tsv.gz']\n",
    "for url in urls:\n",
    "    r=requests.get(url)\n",
    "    with open(url.split('/')[-1], 'wb') as fd:\n",
    "        for chunk in r.iter_content(chunk_size=128):\n",
    "            fd.write(chunk)"
   ]
  },
  {
   "cell_type": "code",
   "execution_count": 11,
   "metadata": {},
   "outputs": [
    {
     "name": "stderr",
     "output_type": "stream",
     "text": [
      "/Users/celia/opt/anaconda3/lib/python3.8/site-packages/IPython/core/interactiveshell.py:3155: DtypeWarning: Columns (4,5) have mixed types.Specify dtype option on import or set low_memory=False.\n",
      "  has_raised = await self.run_ast_nodes(code_ast.body, cell_name,\n"
     ]
    }
   ],
   "source": [
    "basics_df = pd.read_csv('title.basics.tsv.gz',sep='\\t')\n",
    "ratings_df = pd.read_csv('title.ratings.tsv.gz',sep='\\t')"
   ]
  },
  {
   "cell_type": "markdown",
   "metadata": {},
   "source": [
    "## DATA CLEANING BASIC INFO"
   ]
  },
  {
   "cell_type": "code",
   "execution_count": 12,
   "metadata": {},
   "outputs": [
    {
     "data": {
      "text/html": [
       "<div>\n",
       "<style scoped>\n",
       "    .dataframe tbody tr th:only-of-type {\n",
       "        vertical-align: middle;\n",
       "    }\n",
       "\n",
       "    .dataframe tbody tr th {\n",
       "        vertical-align: top;\n",
       "    }\n",
       "\n",
       "    .dataframe thead th {\n",
       "        text-align: right;\n",
       "    }\n",
       "</style>\n",
       "<table border=\"1\" class=\"dataframe\">\n",
       "  <thead>\n",
       "    <tr style=\"text-align: right;\">\n",
       "      <th></th>\n",
       "      <th>tconst</th>\n",
       "      <th>titleType</th>\n",
       "      <th>primaryTitle</th>\n",
       "      <th>originalTitle</th>\n",
       "      <th>isAdult</th>\n",
       "      <th>startYear</th>\n",
       "      <th>endYear</th>\n",
       "      <th>runtimeMinutes</th>\n",
       "      <th>genres</th>\n",
       "    </tr>\n",
       "  </thead>\n",
       "  <tbody>\n",
       "    <tr>\n",
       "      <th>0</th>\n",
       "      <td>tt0000001</td>\n",
       "      <td>short</td>\n",
       "      <td>Carmencita</td>\n",
       "      <td>Carmencita</td>\n",
       "      <td>0</td>\n",
       "      <td>1894</td>\n",
       "      <td>\\N</td>\n",
       "      <td>1</td>\n",
       "      <td>Documentary,Short</td>\n",
       "    </tr>\n",
       "    <tr>\n",
       "      <th>1</th>\n",
       "      <td>tt0000002</td>\n",
       "      <td>short</td>\n",
       "      <td>Le clown et ses chiens</td>\n",
       "      <td>Le clown et ses chiens</td>\n",
       "      <td>0</td>\n",
       "      <td>1892</td>\n",
       "      <td>\\N</td>\n",
       "      <td>5</td>\n",
       "      <td>Animation,Short</td>\n",
       "    </tr>\n",
       "    <tr>\n",
       "      <th>2</th>\n",
       "      <td>tt0000003</td>\n",
       "      <td>short</td>\n",
       "      <td>Pauvre Pierrot</td>\n",
       "      <td>Pauvre Pierrot</td>\n",
       "      <td>0</td>\n",
       "      <td>1892</td>\n",
       "      <td>\\N</td>\n",
       "      <td>4</td>\n",
       "      <td>Animation,Comedy,Romance</td>\n",
       "    </tr>\n",
       "  </tbody>\n",
       "</table>\n",
       "</div>"
      ],
      "text/plain": [
       "      tconst titleType            primaryTitle           originalTitle  \\\n",
       "0  tt0000001     short              Carmencita              Carmencita   \n",
       "1  tt0000002     short  Le clown et ses chiens  Le clown et ses chiens   \n",
       "2  tt0000003     short          Pauvre Pierrot          Pauvre Pierrot   \n",
       "\n",
       "  isAdult startYear endYear runtimeMinutes                    genres  \n",
       "0       0      1894      \\N              1         Documentary,Short  \n",
       "1       0      1892      \\N              5           Animation,Short  \n",
       "2       0      1892      \\N              4  Animation,Comedy,Romance  "
      ]
     },
     "execution_count": 12,
     "metadata": {},
     "output_type": "execute_result"
    }
   ],
   "source": [
    "basics_df.head(3)"
   ]
  },
  {
   "cell_type": "markdown",
   "metadata": {},
   "source": [
    "### Null Values"
   ]
  },
  {
   "cell_type": "code",
   "execution_count": 13,
   "metadata": {},
   "outputs": [
    {
     "name": "stdout",
     "output_type": "stream",
     "text": [
      "<class 'pandas.core.frame.DataFrame'>\n",
      "RangeIndex: 7848093 entries, 0 to 7848092\n",
      "Data columns (total 9 columns):\n",
      " #   Column          Dtype \n",
      "---  ------          ----- \n",
      " 0   tconst          object\n",
      " 1   titleType       object\n",
      " 2   primaryTitle    object\n",
      " 3   originalTitle   object\n",
      " 4   isAdult         object\n",
      " 5   startYear       object\n",
      " 6   endYear         object\n",
      " 7   runtimeMinutes  object\n",
      " 8   genres          object\n",
      "dtypes: object(9)\n",
      "memory usage: 538.9+ MB\n"
     ]
    }
   ],
   "source": [
    "basics_df.info()"
   ]
  },
  {
   "cell_type": "code",
   "execution_count": 14,
   "metadata": {},
   "outputs": [
    {
     "data": {
      "text/plain": [
       "tconst             0\n",
       "titleType          0\n",
       "primaryTitle       9\n",
       "originalTitle      9\n",
       "isAdult            0\n",
       "startYear          0\n",
       "endYear            0\n",
       "runtimeMinutes     0\n",
       "genres            10\n",
       "dtype: int64"
      ]
     },
     "execution_count": 14,
     "metadata": {},
     "output_type": "execute_result"
    }
   ],
   "source": [
    "basics_df.isnull().sum()"
   ]
  },
  {
   "cell_type": "markdown",
   "metadata": {},
   "source": [
    "The columns 'primaryTitle' and 'originalTitle' have the same null values. I will drop them futher below."
   ]
  },
  {
   "cell_type": "code",
   "execution_count": 15,
   "metadata": {},
   "outputs": [
    {
     "data": {
      "text/html": [
       "<div>\n",
       "<style scoped>\n",
       "    .dataframe tbody tr th:only-of-type {\n",
       "        vertical-align: middle;\n",
       "    }\n",
       "\n",
       "    .dataframe tbody tr th {\n",
       "        vertical-align: top;\n",
       "    }\n",
       "\n",
       "    .dataframe thead th {\n",
       "        text-align: right;\n",
       "    }\n",
       "</style>\n",
       "<table border=\"1\" class=\"dataframe\">\n",
       "  <thead>\n",
       "    <tr style=\"text-align: right;\">\n",
       "      <th></th>\n",
       "      <th>tconst</th>\n",
       "      <th>titleType</th>\n",
       "      <th>primaryTitle</th>\n",
       "      <th>originalTitle</th>\n",
       "      <th>isAdult</th>\n",
       "      <th>startYear</th>\n",
       "      <th>endYear</th>\n",
       "      <th>runtimeMinutes</th>\n",
       "      <th>genres</th>\n",
       "    </tr>\n",
       "  </thead>\n",
       "  <tbody>\n",
       "    <tr>\n",
       "      <th>1419263</th>\n",
       "      <td>tt10790040</td>\n",
       "      <td>tvEpisode</td>\n",
       "      <td>NaN</td>\n",
       "      <td>NaN</td>\n",
       "      <td>0</td>\n",
       "      <td>2019</td>\n",
       "      <td>\\N</td>\n",
       "      <td>\\N</td>\n",
       "      <td>\\N</td>\n",
       "    </tr>\n",
       "    <tr>\n",
       "      <th>3408528</th>\n",
       "      <td>tt14273442</td>\n",
       "      <td>tvEpisode</td>\n",
       "      <td>NaN</td>\n",
       "      <td>NaN</td>\n",
       "      <td>0</td>\n",
       "      <td>2021</td>\n",
       "      <td>\\N</td>\n",
       "      <td>\\N</td>\n",
       "      <td>Action,Thriller</td>\n",
       "    </tr>\n",
       "    <tr>\n",
       "      <th>3545333</th>\n",
       "      <td>tt14510930</td>\n",
       "      <td>tvEpisode</td>\n",
       "      <td>NaN</td>\n",
       "      <td>NaN</td>\n",
       "      <td>0</td>\n",
       "      <td>\\N</td>\n",
       "      <td>\\N</td>\n",
       "      <td>\\N</td>\n",
       "      <td>\\N</td>\n",
       "    </tr>\n",
       "    <tr>\n",
       "      <th>4055268</th>\n",
       "      <td>tt1971246</td>\n",
       "      <td>tvEpisode</td>\n",
       "      <td>NaN</td>\n",
       "      <td>NaN</td>\n",
       "      <td>0</td>\n",
       "      <td>2011</td>\n",
       "      <td>\\N</td>\n",
       "      <td>\\N</td>\n",
       "      <td>Biography</td>\n",
       "    </tr>\n",
       "    <tr>\n",
       "      <th>4147815</th>\n",
       "      <td>tt2067043</td>\n",
       "      <td>tvEpisode</td>\n",
       "      <td>NaN</td>\n",
       "      <td>NaN</td>\n",
       "      <td>0</td>\n",
       "      <td>1965</td>\n",
       "      <td>\\N</td>\n",
       "      <td>\\N</td>\n",
       "      <td>Music</td>\n",
       "    </tr>\n",
       "    <tr>\n",
       "      <th>5921715</th>\n",
       "      <td>tt5773048</td>\n",
       "      <td>tvEpisode</td>\n",
       "      <td>NaN</td>\n",
       "      <td>NaN</td>\n",
       "      <td>0</td>\n",
       "      <td>2015</td>\n",
       "      <td>\\N</td>\n",
       "      <td>\\N</td>\n",
       "      <td>Talk-Show</td>\n",
       "    </tr>\n",
       "    <tr>\n",
       "      <th>7166859</th>\n",
       "      <td>tt8473688</td>\n",
       "      <td>tvEpisode</td>\n",
       "      <td>NaN</td>\n",
       "      <td>NaN</td>\n",
       "      <td>0</td>\n",
       "      <td>1987</td>\n",
       "      <td>\\N</td>\n",
       "      <td>\\N</td>\n",
       "      <td>Drama</td>\n",
       "    </tr>\n",
       "    <tr>\n",
       "      <th>7198567</th>\n",
       "      <td>tt8541336</td>\n",
       "      <td>tvEpisode</td>\n",
       "      <td>NaN</td>\n",
       "      <td>NaN</td>\n",
       "      <td>0</td>\n",
       "      <td>2018</td>\n",
       "      <td>\\N</td>\n",
       "      <td>\\N</td>\n",
       "      <td>Reality-TV,Romance</td>\n",
       "    </tr>\n",
       "    <tr>\n",
       "      <th>7804042</th>\n",
       "      <td>tt9824302</td>\n",
       "      <td>tvEpisode</td>\n",
       "      <td>NaN</td>\n",
       "      <td>NaN</td>\n",
       "      <td>0</td>\n",
       "      <td>2016</td>\n",
       "      <td>\\N</td>\n",
       "      <td>\\N</td>\n",
       "      <td>Documentary</td>\n",
       "    </tr>\n",
       "  </tbody>\n",
       "</table>\n",
       "</div>"
      ],
      "text/plain": [
       "             tconst  titleType primaryTitle originalTitle isAdult startYear  \\\n",
       "1419263  tt10790040  tvEpisode          NaN           NaN       0      2019   \n",
       "3408528  tt14273442  tvEpisode          NaN           NaN       0      2021   \n",
       "3545333  tt14510930  tvEpisode          NaN           NaN       0        \\N   \n",
       "4055268   tt1971246  tvEpisode          NaN           NaN       0      2011   \n",
       "4147815   tt2067043  tvEpisode          NaN           NaN       0      1965   \n",
       "5921715   tt5773048  tvEpisode          NaN           NaN       0      2015   \n",
       "7166859   tt8473688  tvEpisode          NaN           NaN       0      1987   \n",
       "7198567   tt8541336  tvEpisode          NaN           NaN       0      2018   \n",
       "7804042   tt9824302  tvEpisode          NaN           NaN       0      2016   \n",
       "\n",
       "        endYear runtimeMinutes              genres  \n",
       "1419263      \\N             \\N                  \\N  \n",
       "3408528      \\N             \\N     Action,Thriller  \n",
       "3545333      \\N             \\N                  \\N  \n",
       "4055268      \\N             \\N           Biography  \n",
       "4147815      \\N             \\N               Music  \n",
       "5921715      \\N             \\N           Talk-Show  \n",
       "7166859      \\N             \\N               Drama  \n",
       "7198567      \\N             \\N  Reality-TV,Romance  \n",
       "7804042      \\N             \\N         Documentary  "
      ]
     },
     "execution_count": 15,
     "metadata": {},
     "output_type": "execute_result"
    }
   ],
   "source": [
    "# creating bool series True for NaN values in 'primaryTitle'  \n",
    "primaryTitle_nulls = pd.isnull(basics_df['primaryTitle'])  \n",
    "      \n",
    "# these rows have nulls for 'primaryTitle' and 'originalTitle'\n",
    "basics_df[primaryTitle_nulls]  "
   ]
  },
  {
   "cell_type": "markdown",
   "metadata": {},
   "source": [
    "For most rows with null 'genres' values, the information seems to be in the 'runtimeMinutes' column."
   ]
  },
  {
   "cell_type": "code",
   "execution_count": 16,
   "metadata": {},
   "outputs": [
    {
     "data": {
      "text/html": [
       "<div>\n",
       "<style scoped>\n",
       "    .dataframe tbody tr th:only-of-type {\n",
       "        vertical-align: middle;\n",
       "    }\n",
       "\n",
       "    .dataframe tbody tr th {\n",
       "        vertical-align: top;\n",
       "    }\n",
       "\n",
       "    .dataframe thead th {\n",
       "        text-align: right;\n",
       "    }\n",
       "</style>\n",
       "<table border=\"1\" class=\"dataframe\">\n",
       "  <thead>\n",
       "    <tr style=\"text-align: right;\">\n",
       "      <th></th>\n",
       "      <th>tconst</th>\n",
       "      <th>titleType</th>\n",
       "      <th>primaryTitle</th>\n",
       "      <th>originalTitle</th>\n",
       "      <th>isAdult</th>\n",
       "      <th>startYear</th>\n",
       "      <th>endYear</th>\n",
       "      <th>runtimeMinutes</th>\n",
       "      <th>genres</th>\n",
       "    </tr>\n",
       "  </thead>\n",
       "  <tbody>\n",
       "    <tr>\n",
       "      <th>1101618</th>\n",
       "      <td>tt10233364</td>\n",
       "      <td>tvEpisode</td>\n",
       "      <td>Rolling in the Deep Dish\\tRolling in the Deep ...</td>\n",
       "      <td>0</td>\n",
       "      <td>2019</td>\n",
       "      <td>\\N</td>\n",
       "      <td>\\N</td>\n",
       "      <td>Reality-TV</td>\n",
       "      <td>NaN</td>\n",
       "    </tr>\n",
       "    <tr>\n",
       "      <th>1523020</th>\n",
       "      <td>tt10970874</td>\n",
       "      <td>tvEpisode</td>\n",
       "      <td>Die Bauhaus-Stadt Tel Aviv - Vorbild für die M...</td>\n",
       "      <td>0</td>\n",
       "      <td>2019</td>\n",
       "      <td>\\N</td>\n",
       "      <td>\\N</td>\n",
       "      <td>\\N</td>\n",
       "      <td>NaN</td>\n",
       "    </tr>\n",
       "    <tr>\n",
       "      <th>1921099</th>\n",
       "      <td>tt11670006</td>\n",
       "      <td>tvEpisode</td>\n",
       "      <td>...ein angenehmer Unbequemer...\\t...ein angene...</td>\n",
       "      <td>0</td>\n",
       "      <td>1981</td>\n",
       "      <td>\\N</td>\n",
       "      <td>\\N</td>\n",
       "      <td>Documentary</td>\n",
       "      <td>NaN</td>\n",
       "    </tr>\n",
       "    <tr>\n",
       "      <th>2034826</th>\n",
       "      <td>tt11868642</td>\n",
       "      <td>tvEpisode</td>\n",
       "      <td>GGN Heavyweight Championship Lungs With Mike T...</td>\n",
       "      <td>0</td>\n",
       "      <td>2020</td>\n",
       "      <td>\\N</td>\n",
       "      <td>\\N</td>\n",
       "      <td>Talk-Show</td>\n",
       "      <td>NaN</td>\n",
       "    </tr>\n",
       "    <tr>\n",
       "      <th>2195178</th>\n",
       "      <td>tt12149332</td>\n",
       "      <td>tvEpisode</td>\n",
       "      <td>Jeopardy! College Championship Semifinal Game ...</td>\n",
       "      <td>0</td>\n",
       "      <td>2020</td>\n",
       "      <td>\\N</td>\n",
       "      <td>\\N</td>\n",
       "      <td>Game-Show</td>\n",
       "      <td>NaN</td>\n",
       "    </tr>\n",
       "    <tr>\n",
       "      <th>2346064</th>\n",
       "      <td>tt12415330</td>\n",
       "      <td>tvEpisode</td>\n",
       "      <td>Anthony Davis High Brow Tank\\tAnthony Davis Hi...</td>\n",
       "      <td>0</td>\n",
       "      <td>2017</td>\n",
       "      <td>\\N</td>\n",
       "      <td>\\N</td>\n",
       "      <td>Reality-TV</td>\n",
       "      <td>NaN</td>\n",
       "    </tr>\n",
       "    <tr>\n",
       "      <th>3082020</th>\n",
       "      <td>tt13704268</td>\n",
       "      <td>tvEpisode</td>\n",
       "      <td>Bay of the Triffids/Doctor of Doom\\tBay of the...</td>\n",
       "      <td>0</td>\n",
       "      <td>\\N</td>\n",
       "      <td>\\N</td>\n",
       "      <td>\\N</td>\n",
       "      <td>Animation,Comedy,Family</td>\n",
       "      <td>NaN</td>\n",
       "    </tr>\n",
       "    <tr>\n",
       "      <th>5124663</th>\n",
       "      <td>tt3984412</td>\n",
       "      <td>tvEpisode</td>\n",
       "      <td>I'm Not Going to Come Last, I'm Just Going to ...</td>\n",
       "      <td>0</td>\n",
       "      <td>2014</td>\n",
       "      <td>\\N</td>\n",
       "      <td>\\N</td>\n",
       "      <td>Reality-TV</td>\n",
       "      <td>NaN</td>\n",
       "    </tr>\n",
       "    <tr>\n",
       "      <th>7803332</th>\n",
       "      <td>tt9822816</td>\n",
       "      <td>tvEpisode</td>\n",
       "      <td>Zwischen Vertuschung und Aufklärung - Missbrau...</td>\n",
       "      <td>0</td>\n",
       "      <td>2019</td>\n",
       "      <td>\\N</td>\n",
       "      <td>\\N</td>\n",
       "      <td>\\N</td>\n",
       "      <td>NaN</td>\n",
       "    </tr>\n",
       "    <tr>\n",
       "      <th>7844433</th>\n",
       "      <td>tt9909210</td>\n",
       "      <td>tvEpisode</td>\n",
       "      <td>Politik und/oder Moral - Wie weit geht das Ver...</td>\n",
       "      <td>0</td>\n",
       "      <td>2005</td>\n",
       "      <td>\\N</td>\n",
       "      <td>\\N</td>\n",
       "      <td>\\N</td>\n",
       "      <td>NaN</td>\n",
       "    </tr>\n",
       "  </tbody>\n",
       "</table>\n",
       "</div>"
      ],
      "text/plain": [
       "             tconst  titleType  \\\n",
       "1101618  tt10233364  tvEpisode   \n",
       "1523020  tt10970874  tvEpisode   \n",
       "1921099  tt11670006  tvEpisode   \n",
       "2034826  tt11868642  tvEpisode   \n",
       "2195178  tt12149332  tvEpisode   \n",
       "2346064  tt12415330  tvEpisode   \n",
       "3082020  tt13704268  tvEpisode   \n",
       "5124663   tt3984412  tvEpisode   \n",
       "7803332   tt9822816  tvEpisode   \n",
       "7844433   tt9909210  tvEpisode   \n",
       "\n",
       "                                              primaryTitle originalTitle  \\\n",
       "1101618  Rolling in the Deep Dish\\tRolling in the Deep ...             0   \n",
       "1523020  Die Bauhaus-Stadt Tel Aviv - Vorbild für die M...             0   \n",
       "1921099  ...ein angenehmer Unbequemer...\\t...ein angene...             0   \n",
       "2034826  GGN Heavyweight Championship Lungs With Mike T...             0   \n",
       "2195178  Jeopardy! College Championship Semifinal Game ...             0   \n",
       "2346064  Anthony Davis High Brow Tank\\tAnthony Davis Hi...             0   \n",
       "3082020  Bay of the Triffids/Doctor of Doom\\tBay of the...             0   \n",
       "5124663  I'm Not Going to Come Last, I'm Just Going to ...             0   \n",
       "7803332  Zwischen Vertuschung und Aufklärung - Missbrau...             0   \n",
       "7844433  Politik und/oder Moral - Wie weit geht das Ver...             0   \n",
       "\n",
       "        isAdult startYear endYear           runtimeMinutes genres  \n",
       "1101618    2019        \\N      \\N               Reality-TV    NaN  \n",
       "1523020    2019        \\N      \\N                       \\N    NaN  \n",
       "1921099    1981        \\N      \\N              Documentary    NaN  \n",
       "2034826    2020        \\N      \\N                Talk-Show    NaN  \n",
       "2195178    2020        \\N      \\N                Game-Show    NaN  \n",
       "2346064    2017        \\N      \\N               Reality-TV    NaN  \n",
       "3082020      \\N        \\N      \\N  Animation,Comedy,Family    NaN  \n",
       "5124663    2014        \\N      \\N               Reality-TV    NaN  \n",
       "7803332    2019        \\N      \\N                       \\N    NaN  \n",
       "7844433    2005        \\N      \\N                       \\N    NaN  "
      ]
     },
     "execution_count": 16,
     "metadata": {},
     "output_type": "execute_result"
    }
   ],
   "source": [
    "# creating bool series True for NaN values in 'genres'  \n",
    "genres_nulls = pd.isnull(basics_df['genres'])  \n",
    "      \n",
    "# rows where 'primaryTitle' = NaN  \n",
    "basics_df[genres_nulls]  "
   ]
  },
  {
   "cell_type": "markdown",
   "metadata": {},
   "source": [
    "So here I replace the nulls in 'genres' with the information available in 'runtimeMinutes'."
   ]
  },
  {
   "cell_type": "code",
   "execution_count": 17,
   "metadata": {},
   "outputs": [],
   "source": [
    "basics_df['genres'].fillna(basics_df['runtimeMinutes'], inplace=True)"
   ]
  },
  {
   "cell_type": "code",
   "execution_count": 18,
   "metadata": {},
   "outputs": [
    {
     "data": {
      "text/html": [
       "<div>\n",
       "<style scoped>\n",
       "    .dataframe tbody tr th:only-of-type {\n",
       "        vertical-align: middle;\n",
       "    }\n",
       "\n",
       "    .dataframe tbody tr th {\n",
       "        vertical-align: top;\n",
       "    }\n",
       "\n",
       "    .dataframe thead th {\n",
       "        text-align: right;\n",
       "    }\n",
       "</style>\n",
       "<table border=\"1\" class=\"dataframe\">\n",
       "  <thead>\n",
       "    <tr style=\"text-align: right;\">\n",
       "      <th></th>\n",
       "      <th>tconst</th>\n",
       "      <th>titleType</th>\n",
       "      <th>primaryTitle</th>\n",
       "      <th>originalTitle</th>\n",
       "      <th>isAdult</th>\n",
       "      <th>startYear</th>\n",
       "      <th>endYear</th>\n",
       "      <th>runtimeMinutes</th>\n",
       "      <th>genres</th>\n",
       "    </tr>\n",
       "  </thead>\n",
       "  <tbody>\n",
       "    <tr>\n",
       "      <th>1101618</th>\n",
       "      <td>tt10233364</td>\n",
       "      <td>tvEpisode</td>\n",
       "      <td>Rolling in the Deep Dish\\tRolling in the Deep ...</td>\n",
       "      <td>0</td>\n",
       "      <td>2019</td>\n",
       "      <td>\\N</td>\n",
       "      <td>\\N</td>\n",
       "      <td>Reality-TV</td>\n",
       "      <td>Reality-TV</td>\n",
       "    </tr>\n",
       "    <tr>\n",
       "      <th>2346064</th>\n",
       "      <td>tt12415330</td>\n",
       "      <td>tvEpisode</td>\n",
       "      <td>Anthony Davis High Brow Tank\\tAnthony Davis Hi...</td>\n",
       "      <td>0</td>\n",
       "      <td>2017</td>\n",
       "      <td>\\N</td>\n",
       "      <td>\\N</td>\n",
       "      <td>Reality-TV</td>\n",
       "      <td>Reality-TV</td>\n",
       "    </tr>\n",
       "    <tr>\n",
       "      <th>7844433</th>\n",
       "      <td>tt9909210</td>\n",
       "      <td>tvEpisode</td>\n",
       "      <td>Politik und/oder Moral - Wie weit geht das Ver...</td>\n",
       "      <td>0</td>\n",
       "      <td>2005</td>\n",
       "      <td>\\N</td>\n",
       "      <td>\\N</td>\n",
       "      <td>\\N</td>\n",
       "      <td>\\N</td>\n",
       "    </tr>\n",
       "  </tbody>\n",
       "</table>\n",
       "</div>"
      ],
      "text/plain": [
       "             tconst  titleType  \\\n",
       "1101618  tt10233364  tvEpisode   \n",
       "2346064  tt12415330  tvEpisode   \n",
       "7844433   tt9909210  tvEpisode   \n",
       "\n",
       "                                              primaryTitle originalTitle  \\\n",
       "1101618  Rolling in the Deep Dish\\tRolling in the Deep ...             0   \n",
       "2346064  Anthony Davis High Brow Tank\\tAnthony Davis Hi...             0   \n",
       "7844433  Politik und/oder Moral - Wie weit geht das Ver...             0   \n",
       "\n",
       "        isAdult startYear endYear runtimeMinutes      genres  \n",
       "1101618    2019        \\N      \\N     Reality-TV  Reality-TV  \n",
       "2346064    2017        \\N      \\N     Reality-TV  Reality-TV  \n",
       "7844433    2005        \\N      \\N             \\N          \\N  "
      ]
     },
     "execution_count": 18,
     "metadata": {},
     "output_type": "execute_result"
    }
   ],
   "source": [
    "# double check\n",
    "basics_df.iloc[[1101618, 2346064, 7844433]]"
   ]
  },
  {
   "cell_type": "code",
   "execution_count": 19,
   "metadata": {},
   "outputs": [],
   "source": [
    "basics_df.dropna(inplace=True)"
   ]
  },
  {
   "cell_type": "code",
   "execution_count": 20,
   "metadata": {},
   "outputs": [
    {
     "data": {
      "text/plain": [
       "tconst            0\n",
       "titleType         0\n",
       "primaryTitle      0\n",
       "originalTitle     0\n",
       "isAdult           0\n",
       "startYear         0\n",
       "endYear           0\n",
       "runtimeMinutes    0\n",
       "genres            0\n",
       "dtype: int64"
      ]
     },
     "execution_count": 20,
     "metadata": {},
     "output_type": "execute_result"
    }
   ],
   "source": [
    "basics_df.isnull().sum()"
   ]
  },
  {
   "cell_type": "markdown",
   "metadata": {},
   "source": [
    "### Fixing Unique Values"
   ]
  },
  {
   "cell_type": "code",
   "execution_count": 21,
   "metadata": {},
   "outputs": [
    {
     "data": {
      "text/plain": [
       "array([1894, 1892, 1893, 1895, 1896, 1898, 1897, 1900, 1899, 1901, 1902,\n",
       "       1903, 1905, 1904, 1912, 1907, 1906, 1908, 1910, 1909, 1914, 1911,\n",
       "       1913, 1915, 1919, 1916, 1917, 1918, 1936, 1925, 1920, 1922, 1921,\n",
       "       1923, 2019, 1924, 1928, 1926, 1927, 1929, 2000, 1993, 1935, 2014,\n",
       "       1930, 2004, 1942, 2011, 1934, 1931, 1932, 1939, 1937, 1933, 1950,\n",
       "       1938, 1951, 1945, 1946, 1940, 1944, 1949, 1947, 1941, 1952, 1970,\n",
       "       1957, 1943, 1959, 1948, 2001, 1953, 2008, 1954, 1965, 1983, 1980,\n",
       "       1973, 1961, 1995, 1955, 1962, 1958, 1956, 1977, 1960, 1964, 1967,\n",
       "       1968, 1963, 1969, 1985, 1971, 1972, 1966, 2021, 1976, 1990, 1986,\n",
       "       2020, 1979, 1974, 1978, 1981, 1988, 1975, 1989, '1971', '1970',\n",
       "       '1967', '1973', '1972', '1974', '1976', '1969', '1968', '1985',\n",
       "       '\\\\N', '1981', '2009', '1980', '1986', '1965', '1987', '1975',\n",
       "       '1978', '1977', '2010', '2018', '1979', '1989', '1988', '1984',\n",
       "       '1966', '1983', '1982', '1992', '1991', '1997', '1952', '1963',\n",
       "       '1995', '2001', '1961', '1994', '1993', '1990', '1964', '1957',\n",
       "       '1999', '2021', '2005', '1953', '2019', '1998', '2020', '1947',\n",
       "       '2002', '1959', '2004', '1996', '2017', '2000', '1945', '1956',\n",
       "       '2013', '2016', '2006', '1955', '1949', '2008', '2003', '2007',\n",
       "       '1960', '1930', '1938', '1929', '1944', '1935', '1962', '1919',\n",
       "       '1951', '1914', '1954', '1958', '1907', '1942', '1918', '1943',\n",
       "       '1921', '1927', '1941', '1939', '1940', '1937', '1950', '1946',\n",
       "       '1916', '1948', '1934', '1912', '1911', '1926', '1933', '1936',\n",
       "       '1925', '1932', '1913', '1928', '1917', '1920', '1931', '1895',\n",
       "       '1922', '1923', '1924', '1900', '1908', '1915', '1910', '1897',\n",
       "       '1905', '1909', '1903', '1902', '1901', '1906', '1904', '1898',\n",
       "       '1896', '1899', '2012', '2014', '2015', '2011', '1894', '1892',\n",
       "       '1893', '1891', '1888', '1890', '2022', '1889', '2023', '2024',\n",
       "       '2025', '2027', '2026', '1878', '2028', '1877', '1887', '1874',\n",
       "       '1883', '1881', '1885'], dtype=object)"
      ]
     },
     "execution_count": 21,
     "metadata": {},
     "output_type": "execute_result"
    }
   ],
   "source": [
    "basics_df['startYear'].unique()"
   ]
  },
  {
   "cell_type": "code",
   "execution_count": 22,
   "metadata": {},
   "outputs": [],
   "source": [
    "# to remove '\\\\N'\n",
    "basics_df = basics_df.loc[basics_df.startYear.apply(lambda x: str(x).isnumeric())]\n",
    "\n",
    "# to int\n",
    "basics_df['startYear'] = basics_df['startYear'].astype(int)"
   ]
  },
  {
   "cell_type": "markdown",
   "metadata": {},
   "source": [
    "## DATA CLEANING RATING INFO"
   ]
  },
  {
   "cell_type": "code",
   "execution_count": 23,
   "metadata": {},
   "outputs": [
    {
     "data": {
      "text/html": [
       "<div>\n",
       "<style scoped>\n",
       "    .dataframe tbody tr th:only-of-type {\n",
       "        vertical-align: middle;\n",
       "    }\n",
       "\n",
       "    .dataframe tbody tr th {\n",
       "        vertical-align: top;\n",
       "    }\n",
       "\n",
       "    .dataframe thead th {\n",
       "        text-align: right;\n",
       "    }\n",
       "</style>\n",
       "<table border=\"1\" class=\"dataframe\">\n",
       "  <thead>\n",
       "    <tr style=\"text-align: right;\">\n",
       "      <th></th>\n",
       "      <th>tconst</th>\n",
       "      <th>averageRating</th>\n",
       "      <th>numVotes</th>\n",
       "    </tr>\n",
       "  </thead>\n",
       "  <tbody>\n",
       "    <tr>\n",
       "      <th>0</th>\n",
       "      <td>tt0000001</td>\n",
       "      <td>5.7</td>\n",
       "      <td>1697</td>\n",
       "    </tr>\n",
       "    <tr>\n",
       "      <th>1</th>\n",
       "      <td>tt0000002</td>\n",
       "      <td>6.1</td>\n",
       "      <td>210</td>\n",
       "    </tr>\n",
       "    <tr>\n",
       "      <th>2</th>\n",
       "      <td>tt0000003</td>\n",
       "      <td>6.5</td>\n",
       "      <td>1454</td>\n",
       "    </tr>\n",
       "  </tbody>\n",
       "</table>\n",
       "</div>"
      ],
      "text/plain": [
       "      tconst  averageRating  numVotes\n",
       "0  tt0000001            5.7      1697\n",
       "1  tt0000002            6.1       210\n",
       "2  tt0000003            6.5      1454"
      ]
     },
     "execution_count": 23,
     "metadata": {},
     "output_type": "execute_result"
    }
   ],
   "source": [
    "ratings_df.head(3)"
   ]
  },
  {
   "cell_type": "markdown",
   "metadata": {},
   "source": [
    "### Null Values\n",
    "\n",
    "There are no null values in ratings_df"
   ]
  },
  {
   "cell_type": "code",
   "execution_count": 24,
   "metadata": {},
   "outputs": [
    {
     "data": {
      "text/plain": [
       "tconst           0\n",
       "averageRating    0\n",
       "numVotes         0\n",
       "dtype: int64"
      ]
     },
     "execution_count": 24,
     "metadata": {},
     "output_type": "execute_result"
    }
   ],
   "source": [
    "ratings_df.isnull().sum()"
   ]
  },
  {
   "cell_type": "markdown",
   "metadata": {},
   "source": [
    "## MERGING TO MAKE IMDB"
   ]
  },
  {
   "cell_type": "code",
   "execution_count": 25,
   "metadata": {},
   "outputs": [],
   "source": [
    "imdb = pd.merge(basics_df.set_index('tconst'), ratings_df.set_index('tconst'), left_index=True, right_index=True).drop_duplicates()"
   ]
  },
  {
   "cell_type": "code",
   "execution_count": 26,
   "metadata": {},
   "outputs": [
    {
     "name": "stdout",
     "output_type": "stream",
     "text": [
      "<class 'pandas.core.frame.DataFrame'>\n",
      "Index: 1145649 entries, tt0000001 to tt9916778\n",
      "Data columns (total 10 columns):\n",
      " #   Column          Non-Null Count    Dtype  \n",
      "---  ------          --------------    -----  \n",
      " 0   titleType       1145649 non-null  object \n",
      " 1   primaryTitle    1145649 non-null  object \n",
      " 2   originalTitle   1145649 non-null  object \n",
      " 3   isAdult         1145649 non-null  object \n",
      " 4   startYear       1145649 non-null  int64  \n",
      " 5   endYear         1145649 non-null  object \n",
      " 6   runtimeMinutes  1145649 non-null  object \n",
      " 7   genres          1145649 non-null  object \n",
      " 8   averageRating   1145649 non-null  float64\n",
      " 9   numVotes        1145649 non-null  int64  \n",
      "dtypes: float64(1), int64(2), object(7)\n",
      "memory usage: 96.1+ MB\n"
     ]
    }
   ],
   "source": [
    "imdb.info()"
   ]
  },
  {
   "cell_type": "markdown",
   "metadata": {},
   "source": [
    "### IMDB Titles\n",
    "\n",
    "Like for the Netflix dataset, I change all titles to lowercase."
   ]
  },
  {
   "cell_type": "code",
   "execution_count": 27,
   "metadata": {},
   "outputs": [],
   "source": [
    "imdb['primaryTitle'] = imdb['primaryTitle'].str.lower()"
   ]
  },
  {
   "cell_type": "code",
   "execution_count": 28,
   "metadata": {},
   "outputs": [],
   "source": [
    "imdb['originalTitle'] = imdb['originalTitle'].str.lower()"
   ]
  },
  {
   "cell_type": "code",
   "execution_count": 29,
   "metadata": {},
   "outputs": [
    {
     "data": {
      "text/html": [
       "<div>\n",
       "<style scoped>\n",
       "    .dataframe tbody tr th:only-of-type {\n",
       "        vertical-align: middle;\n",
       "    }\n",
       "\n",
       "    .dataframe tbody tr th {\n",
       "        vertical-align: top;\n",
       "    }\n",
       "\n",
       "    .dataframe thead th {\n",
       "        text-align: right;\n",
       "    }\n",
       "</style>\n",
       "<table border=\"1\" class=\"dataframe\">\n",
       "  <thead>\n",
       "    <tr style=\"text-align: right;\">\n",
       "      <th></th>\n",
       "      <th>titleType</th>\n",
       "      <th>primaryTitle</th>\n",
       "      <th>originalTitle</th>\n",
       "      <th>isAdult</th>\n",
       "      <th>startYear</th>\n",
       "      <th>endYear</th>\n",
       "      <th>runtimeMinutes</th>\n",
       "      <th>genres</th>\n",
       "      <th>averageRating</th>\n",
       "      <th>numVotes</th>\n",
       "    </tr>\n",
       "    <tr>\n",
       "      <th>tconst</th>\n",
       "      <th></th>\n",
       "      <th></th>\n",
       "      <th></th>\n",
       "      <th></th>\n",
       "      <th></th>\n",
       "      <th></th>\n",
       "      <th></th>\n",
       "      <th></th>\n",
       "      <th></th>\n",
       "      <th></th>\n",
       "    </tr>\n",
       "  </thead>\n",
       "  <tbody>\n",
       "    <tr>\n",
       "      <th>tt9916682</th>\n",
       "      <td>tvEpisode</td>\n",
       "      <td>horrid henry it's all your fault</td>\n",
       "      <td>horrid henry it's all your fault</td>\n",
       "      <td>0</td>\n",
       "      <td>2012</td>\n",
       "      <td>\\N</td>\n",
       "      <td>10</td>\n",
       "      <td>Animation,Comedy,Family</td>\n",
       "      <td>5.6</td>\n",
       "      <td>5</td>\n",
       "    </tr>\n",
       "    <tr>\n",
       "      <th>tt9916690</th>\n",
       "      <td>tvEpisode</td>\n",
       "      <td>horrid henry delivers the milk</td>\n",
       "      <td>horrid henry delivers the milk</td>\n",
       "      <td>0</td>\n",
       "      <td>2012</td>\n",
       "      <td>\\N</td>\n",
       "      <td>10</td>\n",
       "      <td>Animation,Comedy,Family</td>\n",
       "      <td>6.6</td>\n",
       "      <td>5</td>\n",
       "    </tr>\n",
       "    <tr>\n",
       "      <th>tt9916720</th>\n",
       "      <td>short</td>\n",
       "      <td>the nun 2</td>\n",
       "      <td>the nun 2</td>\n",
       "      <td>0</td>\n",
       "      <td>2019</td>\n",
       "      <td>\\N</td>\n",
       "      <td>10</td>\n",
       "      <td>Comedy,Horror,Mystery</td>\n",
       "      <td>6.4</td>\n",
       "      <td>78</td>\n",
       "    </tr>\n",
       "    <tr>\n",
       "      <th>tt9916766</th>\n",
       "      <td>tvEpisode</td>\n",
       "      <td>episode #10.15</td>\n",
       "      <td>episode #10.15</td>\n",
       "      <td>0</td>\n",
       "      <td>2019</td>\n",
       "      <td>\\N</td>\n",
       "      <td>43</td>\n",
       "      <td>Family,Reality-TV</td>\n",
       "      <td>6.9</td>\n",
       "      <td>16</td>\n",
       "    </tr>\n",
       "    <tr>\n",
       "      <th>tt9916778</th>\n",
       "      <td>tvEpisode</td>\n",
       "      <td>escape</td>\n",
       "      <td>escape</td>\n",
       "      <td>0</td>\n",
       "      <td>2019</td>\n",
       "      <td>\\N</td>\n",
       "      <td>\\N</td>\n",
       "      <td>Drama,Mystery,Romance</td>\n",
       "      <td>7.5</td>\n",
       "      <td>27</td>\n",
       "    </tr>\n",
       "  </tbody>\n",
       "</table>\n",
       "</div>"
      ],
      "text/plain": [
       "           titleType                      primaryTitle  \\\n",
       "tconst                                                   \n",
       "tt9916682  tvEpisode  horrid henry it's all your fault   \n",
       "tt9916690  tvEpisode    horrid henry delivers the milk   \n",
       "tt9916720      short                         the nun 2   \n",
       "tt9916766  tvEpisode                    episode #10.15   \n",
       "tt9916778  tvEpisode                            escape   \n",
       "\n",
       "                              originalTitle isAdult  startYear endYear  \\\n",
       "tconst                                                                   \n",
       "tt9916682  horrid henry it's all your fault       0       2012      \\N   \n",
       "tt9916690    horrid henry delivers the milk       0       2012      \\N   \n",
       "tt9916720                         the nun 2       0       2019      \\N   \n",
       "tt9916766                    episode #10.15       0       2019      \\N   \n",
       "tt9916778                            escape       0       2019      \\N   \n",
       "\n",
       "          runtimeMinutes                   genres  averageRating  numVotes  \n",
       "tconst                                                                      \n",
       "tt9916682             10  Animation,Comedy,Family            5.6         5  \n",
       "tt9916690             10  Animation,Comedy,Family            6.6         5  \n",
       "tt9916720             10    Comedy,Horror,Mystery            6.4        78  \n",
       "tt9916766             43        Family,Reality-TV            6.9        16  \n",
       "tt9916778             \\N    Drama,Mystery,Romance            7.5        27  "
      ]
     },
     "execution_count": 29,
     "metadata": {},
     "output_type": "execute_result"
    }
   ],
   "source": [
    "imdb.tail()"
   ]
  },
  {
   "cell_type": "markdown",
   "metadata": {},
   "source": [
    "# DF\n",
    "\n",
    "Merging Netflix and IMDB into one df."
   ]
  },
  {
   "cell_type": "code",
   "execution_count": 30,
   "metadata": {},
   "outputs": [
    {
     "data": {
      "text/html": [
       "<div>\n",
       "<style scoped>\n",
       "    .dataframe tbody tr th:only-of-type {\n",
       "        vertical-align: middle;\n",
       "    }\n",
       "\n",
       "    .dataframe tbody tr th {\n",
       "        vertical-align: top;\n",
       "    }\n",
       "\n",
       "    .dataframe thead th {\n",
       "        text-align: right;\n",
       "    }\n",
       "</style>\n",
       "<table border=\"1\" class=\"dataframe\">\n",
       "  <thead>\n",
       "    <tr style=\"text-align: right;\">\n",
       "      <th></th>\n",
       "      <th>show_id</th>\n",
       "      <th>type</th>\n",
       "      <th>title</th>\n",
       "      <th>director</th>\n",
       "      <th>cast</th>\n",
       "      <th>country</th>\n",
       "      <th>date_added</th>\n",
       "      <th>release_year</th>\n",
       "      <th>rating</th>\n",
       "      <th>duration</th>\n",
       "      <th>...</th>\n",
       "      <th>titleType</th>\n",
       "      <th>primaryTitle</th>\n",
       "      <th>originalTitle</th>\n",
       "      <th>isAdult</th>\n",
       "      <th>startYear</th>\n",
       "      <th>endYear</th>\n",
       "      <th>runtimeMinutes</th>\n",
       "      <th>genres</th>\n",
       "      <th>averageRating</th>\n",
       "      <th>numVotes</th>\n",
       "    </tr>\n",
       "  </thead>\n",
       "  <tbody>\n",
       "    <tr>\n",
       "      <th>0</th>\n",
       "      <td>s2</td>\n",
       "      <td>Movie</td>\n",
       "      <td>7:19</td>\n",
       "      <td>Jorge Michel Grau</td>\n",
       "      <td>Demián Bichir, Héctor Bonilla, Oscar Serrano, ...</td>\n",
       "      <td>Mexico</td>\n",
       "      <td>December 23, 2016</td>\n",
       "      <td>2016</td>\n",
       "      <td>TV-MA</td>\n",
       "      <td>93 min</td>\n",
       "      <td>...</td>\n",
       "      <td>movie</td>\n",
       "      <td>7:19</td>\n",
       "      <td>7:19</td>\n",
       "      <td>0</td>\n",
       "      <td>2016</td>\n",
       "      <td>\\N</td>\n",
       "      <td>94</td>\n",
       "      <td>Drama,History</td>\n",
       "      <td>5.9</td>\n",
       "      <td>581</td>\n",
       "    </tr>\n",
       "  </tbody>\n",
       "</table>\n",
       "<p>1 rows × 22 columns</p>\n",
       "</div>"
      ],
      "text/plain": [
       "  show_id   type title           director  \\\n",
       "0      s2  Movie  7:19  Jorge Michel Grau   \n",
       "\n",
       "                                                cast country  \\\n",
       "0  Demián Bichir, Héctor Bonilla, Oscar Serrano, ...  Mexico   \n",
       "\n",
       "          date_added  release_year rating duration  ... titleType  \\\n",
       "0  December 23, 2016          2016  TV-MA   93 min  ...     movie   \n",
       "\n",
       "  primaryTitle originalTitle isAdult startYear endYear  runtimeMinutes  \\\n",
       "0         7:19          7:19       0      2016      \\N              94   \n",
       "\n",
       "          genres averageRating numVotes  \n",
       "0  Drama,History           5.9      581  \n",
       "\n",
       "[1 rows x 22 columns]"
      ]
     },
     "execution_count": 30,
     "metadata": {},
     "output_type": "execute_result"
    }
   ],
   "source": [
    "df = pd.merge(netflix, imdb, left_on=['title','release_year'], right_on=['primaryTitle','startYear'])\n",
    "df.head(1)"
   ]
  },
  {
   "cell_type": "markdown",
   "metadata": {},
   "source": [
    "## DATA CLEANING DF"
   ]
  },
  {
   "cell_type": "markdown",
   "metadata": {},
   "source": [
    "### Dropping extra columns\n",
    "\n",
    "Drop columns that are redundant or not needed."
   ]
  },
  {
   "cell_type": "code",
   "execution_count": 31,
   "metadata": {},
   "outputs": [],
   "source": [
    "df.drop(columns=['show_id', 'cast', 'date_added', 'duration',\n",
    "                 'listed_in','description', 'titleType', 'primaryTitle',\n",
    "                 'originalTitle','isAdult','startYear', 'endYear'],inplace=True)"
   ]
  },
  {
   "cell_type": "code",
   "execution_count": 32,
   "metadata": {},
   "outputs": [
    {
     "name": "stdout",
     "output_type": "stream",
     "text": [
      "<class 'pandas.core.frame.DataFrame'>\n",
      "Int64Index: 6270 entries, 0 to 6269\n",
      "Data columns (total 10 columns):\n",
      " #   Column          Non-Null Count  Dtype  \n",
      "---  ------          --------------  -----  \n",
      " 0   type            6270 non-null   object \n",
      " 1   title           6270 non-null   object \n",
      " 2   director        6270 non-null   object \n",
      " 3   country         6270 non-null   object \n",
      " 4   release_year    6270 non-null   int64  \n",
      " 5   rating          6270 non-null   object \n",
      " 6   runtimeMinutes  6270 non-null   object \n",
      " 7   genres          6270 non-null   object \n",
      " 8   averageRating   6270 non-null   float64\n",
      " 9   numVotes        6270 non-null   int64  \n",
      "dtypes: float64(1), int64(2), object(7)\n",
      "memory usage: 538.8+ KB\n"
     ]
    }
   ],
   "source": [
    "df.info()"
   ]
  },
  {
   "cell_type": "markdown",
   "metadata": {},
   "source": [
    "### 'type' column"
   ]
  },
  {
   "cell_type": "code",
   "execution_count": 33,
   "metadata": {},
   "outputs": [
    {
     "data": {
      "text/plain": [
       "array(['Movie', 'TV Show'], dtype=object)"
      ]
     },
     "execution_count": 33,
     "metadata": {},
     "output_type": "execute_result"
    }
   ],
   "source": [
    "df['type'].unique()"
   ]
  },
  {
   "cell_type": "code",
   "execution_count": 34,
   "metadata": {},
   "outputs": [],
   "source": [
    "df['movie'] = df['type'].map({'TV Show':0, 'Movie':1})"
   ]
  },
  {
   "cell_type": "markdown",
   "metadata": {},
   "source": [
    "### 'runtimeMinutes' column"
   ]
  },
  {
   "cell_type": "code",
   "execution_count": 35,
   "metadata": {},
   "outputs": [],
   "source": [
    "# to numeric\n",
    "\n",
    "df['runtimeMinutes'].unique()\n",
    "# to remove '\\\\N'\n",
    "df = df.loc[df.runtimeMinutes.apply(lambda x: str(x).isnumeric())]\n",
    "\n",
    "# to int\n",
    "df['runtimeMinutes'] = df['runtimeMinutes'].astype(int)"
   ]
  },
  {
   "cell_type": "markdown",
   "metadata": {},
   "source": [
    "### Dealing with co-produced titles in 'country'"
   ]
  },
  {
   "cell_type": "code",
   "execution_count": 36,
   "metadata": {},
   "outputs": [],
   "source": [
    "df.drop(df[df.country == 'not available'].index, inplace=True)"
   ]
  },
  {
   "cell_type": "code",
   "execution_count": 37,
   "metadata": {},
   "outputs": [],
   "source": [
    "df['country'] = df['country'].str.split(', ')\n",
    "df_countries = (\n",
    "    df.explode('country')\n",
    "    .reset_index(drop=False)\n",
    ")"
   ]
  },
  {
   "cell_type": "code",
   "execution_count": 38,
   "metadata": {},
   "outputs": [
    {
     "data": {
      "text/html": [
       "<div>\n",
       "<style scoped>\n",
       "    .dataframe tbody tr th:only-of-type {\n",
       "        vertical-align: middle;\n",
       "    }\n",
       "\n",
       "    .dataframe tbody tr th {\n",
       "        vertical-align: top;\n",
       "    }\n",
       "\n",
       "    .dataframe thead th {\n",
       "        text-align: right;\n",
       "    }\n",
       "</style>\n",
       "<table border=\"1\" class=\"dataframe\">\n",
       "  <thead>\n",
       "    <tr style=\"text-align: right;\">\n",
       "      <th></th>\n",
       "      <th>index</th>\n",
       "      <th>type</th>\n",
       "      <th>title</th>\n",
       "      <th>director</th>\n",
       "      <th>country</th>\n",
       "      <th>release_year</th>\n",
       "      <th>rating</th>\n",
       "      <th>runtimeMinutes</th>\n",
       "      <th>genres</th>\n",
       "      <th>averageRating</th>\n",
       "      <th>numVotes</th>\n",
       "      <th>movie</th>\n",
       "    </tr>\n",
       "  </thead>\n",
       "  <tbody>\n",
       "    <tr>\n",
       "      <th>6865</th>\n",
       "      <td>6269</td>\n",
       "      <td>Movie</td>\n",
       "      <td>zz top: that little ol' band from texas</td>\n",
       "      <td>Sam Dunn</td>\n",
       "      <td>United Kingdom</td>\n",
       "      <td>2019</td>\n",
       "      <td>TV-MA</td>\n",
       "      <td>91</td>\n",
       "      <td>Biography,Documentary,Music</td>\n",
       "      <td>7.5</td>\n",
       "      <td>1296</td>\n",
       "      <td>1</td>\n",
       "    </tr>\n",
       "    <tr>\n",
       "      <th>6866</th>\n",
       "      <td>6269</td>\n",
       "      <td>Movie</td>\n",
       "      <td>zz top: that little ol' band from texas</td>\n",
       "      <td>Sam Dunn</td>\n",
       "      <td>Canada</td>\n",
       "      <td>2019</td>\n",
       "      <td>TV-MA</td>\n",
       "      <td>91</td>\n",
       "      <td>Biography,Documentary,Music</td>\n",
       "      <td>7.5</td>\n",
       "      <td>1296</td>\n",
       "      <td>1</td>\n",
       "    </tr>\n",
       "    <tr>\n",
       "      <th>6867</th>\n",
       "      <td>6269</td>\n",
       "      <td>Movie</td>\n",
       "      <td>zz top: that little ol' band from texas</td>\n",
       "      <td>Sam Dunn</td>\n",
       "      <td>United States</td>\n",
       "      <td>2019</td>\n",
       "      <td>TV-MA</td>\n",
       "      <td>91</td>\n",
       "      <td>Biography,Documentary,Music</td>\n",
       "      <td>7.5</td>\n",
       "      <td>1296</td>\n",
       "      <td>1</td>\n",
       "    </tr>\n",
       "  </tbody>\n",
       "</table>\n",
       "</div>"
      ],
      "text/plain": [
       "      index   type                                    title  director  \\\n",
       "6865   6269  Movie  zz top: that little ol' band from texas  Sam Dunn   \n",
       "6866   6269  Movie  zz top: that little ol' band from texas  Sam Dunn   \n",
       "6867   6269  Movie  zz top: that little ol' band from texas  Sam Dunn   \n",
       "\n",
       "             country  release_year rating  runtimeMinutes  \\\n",
       "6865  United Kingdom          2019  TV-MA              91   \n",
       "6866          Canada          2019  TV-MA              91   \n",
       "6867   United States          2019  TV-MA              91   \n",
       "\n",
       "                           genres  averageRating  numVotes  movie  \n",
       "6865  Biography,Documentary,Music            7.5      1296      1  \n",
       "6866  Biography,Documentary,Music            7.5      1296      1  \n",
       "6867  Biography,Documentary,Music            7.5      1296      1  "
      ]
     },
     "execution_count": 38,
     "metadata": {},
     "output_type": "execute_result"
    }
   ],
   "source": [
    "df_countries.tail(3)"
   ]
  },
  {
   "cell_type": "code",
   "execution_count": 39,
   "metadata": {},
   "outputs": [
    {
     "data": {
      "text/plain": [
       "array(['Mexico', 'Singapore', 'United States', 'Egypt', 'India', 'Poland',\n",
       "       'Thailand', 'South Korea', 'Canada', 'Indonesia', 'Spain',\n",
       "       'Turkey', 'South Africa', 'Nigeria', 'France', 'Portugal',\n",
       "       'Hong Kong', 'China', 'Germany', 'Italy', 'United Kingdom',\n",
       "       'Serbia', 'Denmark', 'Romania', 'New Zealand', 'Australia',\n",
       "       'Taiwan', 'Netherlands', 'Argentina', 'Philippines',\n",
       "       'United Arab Emirates', 'Brazil', 'Iran', 'Israel', 'Japan',\n",
       "       'Bulgaria', 'Iceland', 'Chile', 'Russia', 'Lebanon', 'Uruguay',\n",
       "       'Sweden', 'Malaysia', 'Ireland', 'Colombia', 'Luxembourg',\n",
       "       'Belgium', 'Austria', 'Norway', 'Senegal', 'Switzerland', 'Ghana',\n",
       "       'Pakistan', 'Saudi Arabia', 'Armenia', 'Jordan', 'Mongolia',\n",
       "       'Namibia', 'Qatar', 'Vietnam', 'Malta', 'Czech Republic',\n",
       "       'Bahamas', 'Sri Lanka', 'Bangladesh', 'Zimbabwe', 'Hungary',\n",
       "       'Finland', 'Latvia', 'Kenya', 'Algeria', 'Liechtenstein',\n",
       "       'Venezuela', 'Peru', 'Cambodia', 'Albania', 'Nicaragua', 'Greece',\n",
       "       'Cambodia,', 'Croatia', 'Guatemala', 'Slovenia', 'Kuwait', 'Nepal',\n",
       "       'Samoa', 'Azerbaijan', 'West Germany', 'Bermuda', 'Ecuador',\n",
       "       'Morocco', 'Georgia', 'Botswana', 'Puerto Rico', 'Iraq',\n",
       "       'Vatican City', 'Angola', 'Jamaica', 'Kazakhstan', 'Malawi',\n",
       "       'Lithuania', 'Afghanistan', 'Paraguay', 'Somalia', 'Sudan',\n",
       "       'Panama', 'United Kingdom,', 'Uganda', 'East Germany', 'Ukraine',\n",
       "       'Montenegro'], dtype=object)"
      ]
     },
     "execution_count": 39,
     "metadata": {},
     "output_type": "execute_result"
    }
   ],
   "source": [
    "df_countries['country'].unique()"
   ]
  },
  {
   "cell_type": "code",
   "execution_count": 40,
   "metadata": {},
   "outputs": [],
   "source": [
    "df['country'].replace('Cambodia,', 'Cambodia', inplace=True)\n",
    "df['country'].replace('West Germany', 'Germany', inplace=True)\n",
    "df['country'].replace('Vatican City', 'Italy', inplace=True)\n",
    "df['country'].replace('United Kingdom,', 'United Kingdom', inplace=True)\n",
    "df['country'].replace('East Germany', 'Germany', inplace=True)"
   ]
  },
  {
   "cell_type": "code",
   "execution_count": 41,
   "metadata": {},
   "outputs": [],
   "source": [
    "asia = ['India', 'Singapore', 'Thailand', 'South Korea', 'Indonesia', 'Hong Kong', 'China', 'Taiwan',\n",
    "        'United Arab Emirates', 'Iran', 'Israel', 'Japan', 'Lebanon', 'Russia', 'Malaysia', 'Pakistan',\n",
    "        'Saudi Arabia', 'Armenia', 'Jordan', 'Mongolia', 'Qatar', 'Vietnam', 'Sri Lanka', 'Bangladesh',\n",
    "        'Cambodia', 'Kuwait', 'Nepal', 'Azerbaijan', 'Iraq', 'Kazakhstan', 'Afghanistan', 'Philippines']\n",
    "\n",
    "europe = ['Poland', 'Spain', 'Turkey', 'France', 'Portugal', 'Germany', 'Italy', 'United Kingdom',\n",
    "       'Serbia', 'Denmark', 'Romania', 'Netherlands', 'Bulgaria', 'Iceland', 'Lebanon', 'Sweden', 'Ireland',\n",
    "          'Luxembourg','Belgium', 'Austria', 'Norway', 'Switzerland', 'Malta', 'Czech Republic', 'Hungary',\n",
    "       'Finland', 'Latvia', 'Liechtenstein', 'Albania', 'Greece', 'Croatia', 'Slovenia', 'Georgia', 'Vatican City',\n",
    "          'Lithuania', 'Ukraine', 'Montenegro']\n",
    "          \n",
    "\n",
    "africa = ['Egypt', 'South Africa', 'Nigeria', 'Senegal', 'Ghana', 'Namibia', 'Zimbabwe', 'Kenya', 'Algeria',\n",
    "          'Morocco', 'Botswana', 'Angola', 'Malawi', 'Somalia', 'Sudan', 'Uganda']\n",
    "\n",
    "\n",
    "oceanie = ['Australia']\n",
    "\n",
    "north_america = ['Canada', 'Mexico', 'United States', 'Bahamas', 'Bermuda', 'Guatemala', 'Nicaragua', 'Puerto Rico', 'Jamaica', 'Panama']\n",
    "\n",
    "south_america = ['Argentina', 'Bolivia', 'Brazil', 'Chile',\n",
    "                 'Colombia', 'Ecuador', 'Falkland Islands',\n",
    "                 'French Guiana', 'Guyana', 'Paraguay', 'Peru',\n",
    "                 'Suriname', 'Uruguay', 'Venezuela']\n",
    "\n",
    "\n",
    "def GetConti(country):\n",
    "    if country in asia:\n",
    "        return \"Asia\"\n",
    "    elif country in europe:\n",
    "        return \"Europe\"\n",
    "    elif country in africa:\n",
    "        return \"Africa\"\n",
    "    elif country in north_america:\n",
    "        return \"North America\"\n",
    "    elif country in south_america:\n",
    "        return \"South America\"\n",
    "    else:\n",
    "        return \"Oceanie\"\n",
    "\n",
    "df_countries['continent'] = df_countries['country'].apply(lambda x: GetConti(x))"
   ]
  },
  {
   "cell_type": "markdown",
   "metadata": {},
   "source": [
    "### Dealing with multiple 'genres'"
   ]
  },
  {
   "cell_type": "code",
   "execution_count": 42,
   "metadata": {},
   "outputs": [
    {
     "data": {
      "text/plain": [
       "array(['Drama,History', 'Horror', 'Action,Adventure,Animation',\n",
       "       'Comedy,Drama,Short', 'Crime,Drama,History', 'Horror,Thriller',\n",
       "       'Comedy', 'Thriller', 'Horror,Mystery,Romance',\n",
       "       'Crime,Drama,Horror', 'Crime,Drama,Thriller', 'Documentary',\n",
       "       'Sci-Fi', 'Action,Drama,Horror', 'Biography,Comedy,Drama',\n",
       "       'Comedy,Drama,Romance', 'Comedy,Romance',\n",
       "       'Action,Adventure,Sci-Fi', 'Drama,Family', 'Drama,Romance,Sport',\n",
       "       'Adventure,Comedy,Romance', 'Comedy,Drama',\n",
       "       'Comedy,History,Romance', 'Comedy,Family', 'Drama', 'Drama,Sport',\n",
       "       'Crime,Documentary,History', 'Action,History,Thriller',\n",
       "       'Action,Drama,Thriller', 'Comedy,Drama,Fantasy',\n",
       "       'Drama,History,War', 'Drama,Horror,Thriller',\n",
       "       'Biography,Documentary,History', 'Music', 'Action,Sci-Fi,Thriller',\n",
       "       'Drama,Thriller', 'Comedy,Musical', 'Action,Comedy,Crime',\n",
       "       'Biography,Drama', 'Drama,Romance', 'Biography,Documentary,Drama',\n",
       "       'Adventure,Animation,Comedy', 'Drama,Music',\n",
       "       'Adventure,Comedy,Family', 'Action,Comedy', 'Action,Drama,History',\n",
       "       'Action,Thriller', 'Comedy,Crime,Romance',\n",
       "       'Drama,Mystery,Thriller', 'Drama,Family,Sport',\n",
       "       'Documentary,Short', 'Comedy,Family,Fantasy', 'Drama,Fantasy',\n",
       "       'Family', 'Comedy,Family,Romance', 'Fantasy,Romance',\n",
       "       'Family,Romance', 'Crime,Drama,Sci-Fi', 'Animation,Comedy,Family',\n",
       "       'Drama,Fantasy,Thriller', 'Biography,Documentary,Family',\n",
       "       'Crime,Documentary,Mystery', 'Action,Adventure,Comedy',\n",
       "       'Biography,Comedy', 'Drama,Fantasy,Romance',\n",
       "       'Animation,Family,Short', 'Documentary,History', 'Comedy,Fantasy',\n",
       "       'Biography,Documentary,Sport', 'Comedy,Fantasy,Horror',\n",
       "       'Talk-Show', 'Romance', 'Adventure,Drama,Family',\n",
       "       'Action,Crime,Drama', 'Comedy,Music,Romance', 'Crime,Documentary',\n",
       "       'Comedy,Drama,Family', 'Documentary,Drama',\n",
       "       'Family,Fantasy,Musical', 'Crime,Drama', 'Biography,Drama,History',\n",
       "       'Comedy,Music,Musical', 'Adventure,Animation,Family',\n",
       "       'Adventure,Family,Fantasy', 'Comedy,Talk-Show',\n",
       "       'Comedy,Crime,Drama', 'Comedy,Drama,Sci-Fi', 'Comedy,Horror',\n",
       "       'Biography,Drama,Romance', 'Mystery,Thriller', 'Music,Romance',\n",
       "       'Drama,Music,Short', 'Drama,Fantasy,History',\n",
       "       'Action,Adventure,Thriller', 'Comedy,Romance,Sci-Fi',\n",
       "       'Action,Crime', 'Crime,Drama,Mystery',\n",
       "       'Action,Adventure,Biography', 'Drama,Family,Horror',\n",
       "       'Drama,Family,Sci-Fi', 'Drama,Sci-Fi,Thriller',\n",
       "       'Comedy,Mystery,Sci-Fi', 'Drama,Mystery',\n",
       "       'Action,Adventure,Horror', 'Crime,Drama,Romance', 'Crime',\n",
       "       'Drama,Horror,Mystery', 'Drama,Romance,Thriller',\n",
       "       'Adventure,Comedy,Drama', 'Action,Comedy,Romance',\n",
       "       'Action,Animation,Comedy', 'Action,Romance', 'Action,Comedy,Drama',\n",
       "       '\\\\N', 'Biography,Crime,Drama', 'Action,Fantasy,Mystery',\n",
       "       'Action,Sci-Fi', 'Documentary,History,Music', 'Comedy,Music',\n",
       "       'Animation,Comedy,Drama', 'Documentary,Family,Short',\n",
       "       'Horror,Mystery,Thriller', 'Documentary,Sport',\n",
       "       'Action,Animation,Crime', 'Adventure,Drama,Romance',\n",
       "       'Fantasy,Musical', 'Biography,Documentary,Music', 'Comedy,Crime',\n",
       "       'Drama,Thriller,War', 'Biography,Comedy,Music',\n",
       "       'Crime,Drama,Music', 'Action,Comedy,Thriller', 'Fantasy',\n",
       "       'Action,Mystery,Thriller', 'Music,Short', 'Action,Fantasy,Sci-Fi',\n",
       "       'Action,Crime,Thriller', 'Comedy,Documentary',\n",
       "       'Adventure,Family,Mystery', 'Adventure,Animation,Drama',\n",
       "       'Crime,Sci-Fi,Thriller', 'Adventure,Drama,Mystery',\n",
       "       'Comedy,Fantasy,Romance', 'Horror,Mystery,Sci-Fi',\n",
       "       'Drama,Fantasy,Horror', 'Drama,Horror', 'Documentary,Music',\n",
       "       'Action,Drama,Fantasy', 'Adventure,Drama,Fantasy',\n",
       "       'Comedy,Documentary,Drama', 'Short', 'Crime,Documentary,Sport',\n",
       "       'Drama,Mystery,Romance', 'Comedy,Romance,Short', 'Comedy,Short',\n",
       "       'Drama,Short', 'Documentary,Reality-TV', 'Adventure,Comedy',\n",
       "       'Action,Drama,Sci-Fi', 'Action,Drama,Short', 'Game-Show',\n",
       "       'Drama,Romance,Sci-Fi', 'Biography,Drama,Sport',\n",
       "       'Action,Romance,Thriller', 'Comedy,Fantasy,Music',\n",
       "       'Adventure,Drama,Horror', 'Comedy,Horror,Sci-Fi',\n",
       "       'Drama,Fantasy,Mystery', 'Comedy,History',\n",
       "       'Biography,Crime,Documentary', 'Western', 'Action,Comedy,Fantasy',\n",
       "       'Comedy,Drama,Music', 'Adventure,Comedy,Crime',\n",
       "       'Action,Adventure,War', 'Action,Adventure,Drama',\n",
       "       'Animation,Family', 'Animation,Family,Fantasy',\n",
       "       'Animation,Musical', 'Animation,Family,Musical', 'Comedy,Sport',\n",
       "       'Comedy,Documentary,Music', 'Drama,Music,Romance',\n",
       "       'Adventure,Reality-TV', 'Drama,Family,Fantasy',\n",
       "       'Animation,Crime,Drama', 'Drama,War', 'Reality-TV',\n",
       "       'Drama,Horror,Sci-Fi', 'Documentary,News',\n",
       "       'Crime,Documentary,Drama', 'Comedy,Family,Sport',\n",
       "       'Crime,Drama,Family', 'Sport', 'Action,Horror,Thriller',\n",
       "       'Fantasy,Thriller', 'Action,Animation,Family',\n",
       "       'Documentary,Talk-Show', 'Action,Drama', 'Comedy,Horror,Mystery',\n",
       "       'Biography,Drama,Family', 'Comedy,Family,Music', 'Horror,Sci-Fi',\n",
       "       'Comedy,Drama,Thriller', 'Action', 'Action,Animation,Drama',\n",
       "       'Biography,Drama,Music', 'Action,Animation,Fantasy', 'Animation',\n",
       "       'Documentary,Drama,Romance', 'Comedy,Musical,Romance',\n",
       "       'Drama,Sci-Fi', 'Action,Biography,Crime', 'Crime,Thriller',\n",
       "       'Action,Documentary,Drama', 'Documentary,Drama,Sport',\n",
       "       'Musical,War', 'Action,Drama,Sport', 'Short,Talk-Show',\n",
       "       'Animation,Comedy', 'Action,Fantasy,Thriller',\n",
       "       'Drama,Family,Short', 'Short,Thriller', 'Drama,Music,Musical',\n",
       "       'Animation,Short', 'Horror,Sci-Fi,Thriller',\n",
       "       'Fantasy,Mystery,Thriller', 'Animation,Drama,Family',\n",
       "       'Animation,Drama,Music', 'Adventure,Drama,Sci-Fi',\n",
       "       'Comedy,Western', 'Documentary,Drama,History',\n",
       "       'Adventure,Crime,Thriller', 'Documentary,Family',\n",
       "       'Adventure,Animation,Fantasy', 'Fantasy,Horror,Thriller',\n",
       "       'Action,Drama,War', 'Drama,Family,Romance',\n",
       "       'Action,Adventure,Fantasy', 'Action,Drama,Mystery', 'Sci-Fi,Short',\n",
       "       'Comedy,Drama,Musical', 'Comedy,Drama,Mystery',\n",
       "       'Drama,Fantasy,Sci-Fi', 'Animation,Drama,Short', 'Comedy,Thriller',\n",
       "       'Biography,Documentary', 'Action,Animation,Sci-Fi',\n",
       "       'Adventure,Drama,War', 'Horror,Mystery', 'Crime,Drama,Western',\n",
       "       'Action,Biography,Drama', 'Crime,Mystery,Thriller',\n",
       "       'Action,Horror,Mystery', 'Drama,History,Romance',\n",
       "       'Comedy,Drama,Horror', 'Action,Crime,Horror', 'Action,Short',\n",
       "       'Drama,Romance,Short', 'Comedy,Drama,History',\n",
       "       'Crime,Horror,Thriller', 'Drama,Musical,Romance',\n",
       "       'Family,Music,Romance', 'Drama,Western', 'Drama,Romance,War',\n",
       "       'Adventure', 'Adventure,Fantasy,Horror', 'Adventure,Documentary',\n",
       "       'Action,Horror,Sci-Fi', 'Action,Adventure,Crime',\n",
       "       'Adult,Drama,Fantasy', 'Documentary,War',\n",
       "       'Adventure,Family,Sci-Fi', 'Biography', 'Comedy,Crime,Thriller',\n",
       "       'Comedy,Crime,Western', 'Action,Drama,Musical',\n",
       "       'Drama,Sci-Fi,Short', 'Drama,Mystery,Sci-Fi',\n",
       "       'Animation,Drama,Fantasy', 'Comedy,Sci-Fi', 'Drama,Family,Musical',\n",
       "       'Documentary,Reality-TV,Sport', 'Animation,Horror',\n",
       "       'Comedy,Horror,Short', 'Fantasy,Horror,Sci-Fi',\n",
       "       'Crime,History,Thriller', 'Adventure,Drama,Short',\n",
       "       'Drama,Fantasy,Sport', 'Animation,Drama,History',\n",
       "       'Adventure,Biography,Drama', 'Game-Show,Reality-TV',\n",
       "       'Adventure,Documentary,Drama', 'Adventure,Comedy,Music',\n",
       "       'Adventure,Animation', 'Horror,Thriller,War',\n",
       "       'Crime,Drama,Fantasy', 'Fantasy,Short', 'Family,Sport',\n",
       "       'Horror,Mystery,Short', 'Comedy,Crime,Mystery',\n",
       "       'Comedy,Drama,Sport', 'Comedy,Horror,Thriller', 'Musical,Romance',\n",
       "       'Biography,Family,Sport', 'Documentary,History,War',\n",
       "       'Action,Drama,Romance', 'Comedy,Mystery', 'Horror,Western',\n",
       "       'Documentary,Horror', 'Animation,Documentary',\n",
       "       'Action,Mystery,Sci-Fi', 'Action,Fantasy,Horror',\n",
       "       'Action,Biography,History', 'Documentary,History,Sport',\n",
       "       'Fantasy,Horror,Mystery', 'Comedy,Reality-TV', 'Musical',\n",
       "       'Adventure,Comedy,Sport', 'Animation,Comedy,Crime',\n",
       "       'Animation,Comedy,Sport', 'Adventure,Biography,Documentary',\n",
       "       'Documentary,Drama,Reality-TV', 'Drama,History,Music',\n",
       "       'Animation,Biography,Documentary', 'Horror,Sci-Fi,Short',\n",
       "       'Adventure,Comedy,Reality-TV', 'Adventure,Comedy,Documentary',\n",
       "       'Action,Crime,Sci-Fi', 'Adventure,Fantasy,War',\n",
       "       'Action,Comedy,History', 'Crime,Mystery,Romance', 'Action,Western',\n",
       "       'Crime,Mystery,Sci-Fi', 'Action,Documentary,History',\n",
       "       'Action,Adventure', 'Drama,Family,Mystery', 'Drama,Musical',\n",
       "       'Documentary,Fantasy', 'Comedy,Family,Musical',\n",
       "       'Biography,Documentary,Romance', 'Comedy,Family,Sci-Fi',\n",
       "       'Fantasy,History,Sci-Fi', 'Adventure,Animation,Biography',\n",
       "       'Drama,History,Thriller', 'Adventure,Horror,Mystery',\n",
       "       'Animation,Drama', 'Biography,Drama,Thriller', 'Action,Animation',\n",
       "       'Mystery', 'Adventure,Drama', 'Crime,Documentary,Music',\n",
       "       'Action,Adventure,Family', 'Comedy,Crime,Horror',\n",
       "       'Adventure,Family', 'Animation,Fantasy', 'Drama,History,Musical',\n",
       "       'Mystery,Short', 'Action,Crime,Mystery', 'Action,Fantasy,Romance',\n",
       "       'Biography,Documentary,Short', 'Horror,Short',\n",
       "       'Documentary,Short,Sport', 'Adventure,Documentary,Sport',\n",
       "       'Animation,Comedy,Fantasy', 'Sci-Fi,Thriller',\n",
       "       'Action,Drama,Music', 'Comedy,Documentary,Horror',\n",
       "       'Adventure,Drama,Thriller', 'Action,Comedy,Family',\n",
       "       'Adventure,Documentary,Reality-TV', 'Mystery,Romance,Thriller',\n",
       "       'Drama,Horror,Short', 'Comedy,Documentary,Romance',\n",
       "       'Romance,Short', 'Animation,Biography,Drama',\n",
       "       'Comedy,News,Talk-Show', 'Adventure,Comedy,Fantasy',\n",
       "       'Drama,Mystery,Short', 'Comedy,Romance,Sport',\n",
       "       'Mystery,Sci-Fi,Thriller', 'Adventure,Drama,History',\n",
       "       'Comedy,Fantasy,Mystery', 'Comedy,Mystery,Romance',\n",
       "       'Adult,Drama,Romance', 'Action,Horror,Romance',\n",
       "       'Action,Adventure,Mystery', 'Comedy,Crime,Family',\n",
       "       'Adult,Comedy,Romance', 'Biography,Music', 'Action,Comedy,Sci-Fi',\n",
       "       'Animation,Comedy,Documentary', 'Romance,Sci-Fi',\n",
       "       'Animation,Comedy,Romance', 'Crime,Drama,War', 'Drama,Fantasy,War',\n",
       "       'Fantasy,Music', 'Action,Animation,Horror', 'Documentary,Mystery',\n",
       "       'Comedy,Horror,Romance', 'Comedy,Horror,Reality-TV',\n",
       "       'Drama,Family,History', 'Drama,Family,Music',\n",
       "       'Drama,Music,Mystery', 'History', 'Action,Horror',\n",
       "       'Family,Horror,Romance', 'Action,Reality-TV,Sport',\n",
       "       'Horror,Romance', 'Action,Adventure,History', 'Action,War',\n",
       "       'Biography,Documentary,News', 'Comedy,Mystery,Thriller',\n",
       "       'Documentary,Drama,Short', 'Drama,Short,Sport',\n",
       "       'Drama,Short,Thriller', 'Fantasy,Romance,Short', 'Action,Mystery',\n",
       "       'Documentary,Short,War', 'Family,Fantasy', 'Music,Musical',\n",
       "       'Drama,Fantasy,Music', 'Action,Crime,History',\n",
       "       'Adventure,Animation,Short', 'Action,Animation,History',\n",
       "       'Biography,Thriller', 'Animation,Comedy,Talk-Show',\n",
       "       'Biography,History', 'Music,Mystery,Short',\n",
       "       'Animation,Family,Sci-Fi', 'Comedy,War',\n",
       "       'Documentary,History,News', 'Drama,Horror,Musical',\n",
       "       'Romance,Thriller', 'Horror,Reality-TV,Sci-Fi',\n",
       "       'Documentary,Drama,Mystery', 'Drama,Reality-TV',\n",
       "       'Horror,Short,Thriller', 'Action,Drama,Western', 'Family,Sci-Fi',\n",
       "       'Crime,Horror,Mystery', 'History,Sport,Thriller',\n",
       "       'Animation,Drama,Sci-Fi', 'Comedy,Horror,Talk-Show',\n",
       "       'Fantasy,Mystery,Romance', 'Action,Sci-Fi,Short',\n",
       "       'Drama,History,Sport', 'Action,Documentary,Sport',\n",
       "       'Animation,Drama,Romance', 'Action,Crime,Romance',\n",
       "       'Adventure,Horror', 'Comedy,Music,Sci-Fi',\n",
       "       'Biography,Comedy,Crime', 'Action,Drama,Family', 'News,Talk-Show',\n",
       "       'Documentary,Drama,War', 'Comedy,Documentary,Reality-TV',\n",
       "       'Biography,Drama,Mystery', 'Action,Biography,Documentary',\n",
       "       'Biography,Drama,War', 'Family,Sci-Fi,Thriller', 'News,Short',\n",
       "       'Documentary,History,Short', 'Crime,Mystery',\n",
       "       'Adventure,Family,Music', 'Documentary,Drama,News',\n",
       "       'Crime,Fantasy,Horror', 'Game-Show,Reality-TV,Romance',\n",
       "       'Adventure,Crime,Drama', 'Documentary,Drama,Family',\n",
       "       'Action,Comedy,Horror', 'Action,Crime,Reality-TV',\n",
       "       'Adventure,Drama,Western', 'Adventure,Documentary,Short',\n",
       "       'Comedy,Drama,War', 'Documentary,Game-Show', 'Action,Comedy,War',\n",
       "       'Action,Crime,Fantasy', 'Biography,Drama,Horror',\n",
       "       'Action,Thriller,War', 'Adventure,Biography,Crime',\n",
       "       'Drama,Family,War'], dtype=object)"
      ]
     },
     "execution_count": 42,
     "metadata": {},
     "output_type": "execute_result"
    }
   ],
   "source": [
    "df_countries['genres'].unique()"
   ]
  },
  {
   "cell_type": "code",
   "execution_count": 43,
   "metadata": {},
   "outputs": [],
   "source": [
    "df_countries['genres'] = df_countries['genres'].str.split(',')\n",
    "df_genres = (\n",
    "    df_countries.explode('genres')\n",
    "    .reset_index(drop=False)\n",
    ")"
   ]
  },
  {
   "cell_type": "code",
   "execution_count": 44,
   "metadata": {},
   "outputs": [
    {
     "data": {
      "text/plain": [
       "array(['Drama', 'History', 'Horror', 'Action', 'Adventure', 'Animation',\n",
       "       'Comedy', 'Short', 'Crime', 'Thriller', 'Mystery', 'Romance',\n",
       "       'Documentary', 'Sci-Fi', 'Biography', 'Family', 'Sport', 'Fantasy',\n",
       "       'War', 'Music', 'Musical', 'Talk-Show', '\\\\N', 'Reality-TV',\n",
       "       'Game-Show', 'Western', 'News', 'Adult'], dtype=object)"
      ]
     },
     "execution_count": 44,
     "metadata": {},
     "output_type": "execute_result"
    }
   ],
   "source": [
    "df_genres['genres'].unique()"
   ]
  },
  {
   "cell_type": "code",
   "execution_count": 45,
   "metadata": {},
   "outputs": [],
   "source": [
    "df_genres['genres'].replace('\\\\N', 'Unknown', inplace=True)"
   ]
  },
  {
   "cell_type": "markdown",
   "metadata": {},
   "source": [
    "### Dealing with rating column\n",
    "\n",
    "Since the 'type' column already specifies if the title is a 'Movie' = 1 or 'TV Show' = 0, there is no need to have 'TV' specified in the ratings.\n",
    "\n",
    "To reduce the number of ratings, I combine similar ratings, then rename the column 'age_rating'."
   ]
  },
  {
   "cell_type": "code",
   "execution_count": 46,
   "metadata": {},
   "outputs": [
    {
     "data": {
      "text/plain": [
       "array(['TV-MA', 'R', 'PG-13', 'TV-14', 'NR', 'TV-G', 'TV-PG', 'TV-Y',\n",
       "       'TV-Y7', 'PG', 'G', 'TV-Y7-FV', 'UR', 'not available', 'NC-17'],\n",
       "      dtype=object)"
      ]
     },
     "execution_count": 46,
     "metadata": {},
     "output_type": "execute_result"
    }
   ],
   "source": [
    "df_genres['rating'].unique()"
   ]
  },
  {
   "cell_type": "code",
   "execution_count": 47,
   "metadata": {},
   "outputs": [],
   "source": [
    "df_genres['rating'].replace('TV-MA', 'R', inplace=True)\n",
    "df_genres['rating'].replace('PG-13', '14', inplace=True)\n",
    "df_genres['rating'].replace('TV-14', '14', inplace=True)\n",
    "df_genres['rating'].replace('TV-G', 'G', inplace=True)\n",
    "df_genres['rating'].replace('TV-PG', 'PG', inplace=True)\n",
    "df_genres['rating'].replace('TV-Y', 'Y', inplace=True)\n",
    "df_genres['rating'].replace('TV-Y7', 'Y7', inplace=True)\n",
    "df_genres['rating'].replace('TV-Y7-FV', 'Y7', inplace=True)"
   ]
  },
  {
   "cell_type": "code",
   "execution_count": 48,
   "metadata": {},
   "outputs": [],
   "source": [
    "# change column name\n",
    "df_genres.rename(columns = {'rating':'age_rating'}, inplace = True)\n",
    "df_genres.rename(columns = {'averageRating':'imdb_rating'}, inplace = True)"
   ]
  },
  {
   "cell_type": "code",
   "execution_count": 49,
   "metadata": {},
   "outputs": [
    {
     "data": {
      "text/plain": [
       "array(['R', '14', 'NR', 'G', 'PG', 'Y', 'Y7', 'UR', 'not available',\n",
       "       'NC-17'], dtype=object)"
      ]
     },
     "execution_count": 49,
     "metadata": {},
     "output_type": "execute_result"
    }
   ],
   "source": [
    "df_genres['age_rating'].unique()"
   ]
  },
  {
   "cell_type": "markdown",
   "metadata": {},
   "source": [
    "### Dealing with 'averageRating' column\n",
    "\n",
    "I divide into subclasses and rename the 'averageRating' column to 'imdb_rating'."
   ]
  },
  {
   "cell_type": "code",
   "execution_count": 50,
   "metadata": {},
   "outputs": [
    {
     "data": {
      "text/plain": [
       "array([5.9, 4.6, 7.1, 5.4, 6.8, 7.5, 5.3, 6.4, 6.3, 7.8, 4.5, 6.6, 6.2,\n",
       "       5.2, 5.1, 3.8, 4.4, 5.5, 4.8, 7.6, 6.7, 4.7, 7.3, 8.3, 5.6, 6.5,\n",
       "       5.8, 3.3, 6.9, 7.4, 6.1, 8.4, 7.2, 2.6, 3.2, 7. , 3.9, 1.8, 4.2,\n",
       "       6. , 8.1, 5.7, 3. , 5. , 8.7, 8. , 3.1, 7.9, 7.7, 1.5, 9. , 8.2,\n",
       "       2.8, 8.5, 3.7, 2.9, 3.6, 2.7, 4.9, 9.3, 8.9, 8.6, 2.1, 8.8, 3.5,\n",
       "       4. , 2.4, 4.1, 4.3, 2.5, 2.3, 9.8, 9.2, 3.4, 2.2, 9.1, 1.7, 1.6,\n",
       "       1.9, 9.5, 9.6, 9.4])"
      ]
     },
     "execution_count": 50,
     "metadata": {},
     "output_type": "execute_result"
    }
   ],
   "source": [
    "df_genres['imdb_rating'].unique()"
   ]
  },
  {
   "cell_type": "code",
   "execution_count": 51,
   "metadata": {},
   "outputs": [],
   "source": [
    "# function to apply to 'imdb_rating'\n",
    "\n",
    "def rating(score):\n",
    "    if score <= 3:\n",
    "        return 1\n",
    "    elif score > 3 and score <= 5:\n",
    "        return 2\n",
    "    elif score > 5 and score <= 6:\n",
    "        return 3\n",
    "    elif score > 6 and score <= 8.5:\n",
    "        return 4\n",
    "    else:\n",
    "        return 5"
   ]
  },
  {
   "cell_type": "code",
   "execution_count": 52,
   "metadata": {},
   "outputs": [],
   "source": [
    "df_genres.loc[:, 'imdb_rating'] = df_genres.loc[:, 'imdb_rating'].apply(rating)"
   ]
  },
  {
   "cell_type": "code",
   "execution_count": 53,
   "metadata": {},
   "outputs": [
    {
     "data": {
      "text/plain": [
       "array([3, 2, 4, 1, 5])"
      ]
     },
     "execution_count": 53,
     "metadata": {},
     "output_type": "execute_result"
    }
   ],
   "source": [
    "df_genres['imdb_rating'].unique()"
   ]
  },
  {
   "cell_type": "code",
   "execution_count": 54,
   "metadata": {},
   "outputs": [],
   "source": [
    "df_final = df_genres[['title', 'director', 'movie', 'age_rating',\n",
    "                      'country', 'continent', 'release_year', 'runtimeMinutes', \n",
    "                      'genres', 'numVotes', 'imdb_rating']]"
   ]
  },
  {
   "cell_type": "markdown",
   "metadata": {},
   "source": [
    "# FINAL DF"
   ]
  },
  {
   "cell_type": "code",
   "execution_count": 55,
   "metadata": {},
   "outputs": [
    {
     "data": {
      "text/html": [
       "<div>\n",
       "<style scoped>\n",
       "    .dataframe tbody tr th:only-of-type {\n",
       "        vertical-align: middle;\n",
       "    }\n",
       "\n",
       "    .dataframe tbody tr th {\n",
       "        vertical-align: top;\n",
       "    }\n",
       "\n",
       "    .dataframe thead th {\n",
       "        text-align: right;\n",
       "    }\n",
       "</style>\n",
       "<table border=\"1\" class=\"dataframe\">\n",
       "  <thead>\n",
       "    <tr style=\"text-align: right;\">\n",
       "      <th></th>\n",
       "      <th>title</th>\n",
       "      <th>director</th>\n",
       "      <th>movie</th>\n",
       "      <th>age_rating</th>\n",
       "      <th>country</th>\n",
       "      <th>continent</th>\n",
       "      <th>release_year</th>\n",
       "      <th>runtimeMinutes</th>\n",
       "      <th>genres</th>\n",
       "      <th>numVotes</th>\n",
       "      <th>imdb_rating</th>\n",
       "    </tr>\n",
       "  </thead>\n",
       "  <tbody>\n",
       "    <tr>\n",
       "      <th>0</th>\n",
       "      <td>7:19</td>\n",
       "      <td>Jorge Michel Grau</td>\n",
       "      <td>1</td>\n",
       "      <td>R</td>\n",
       "      <td>Mexico</td>\n",
       "      <td>North America</td>\n",
       "      <td>2016</td>\n",
       "      <td>94</td>\n",
       "      <td>Drama</td>\n",
       "      <td>581</td>\n",
       "      <td>3</td>\n",
       "    </tr>\n",
       "    <tr>\n",
       "      <th>1</th>\n",
       "      <td>7:19</td>\n",
       "      <td>Jorge Michel Grau</td>\n",
       "      <td>1</td>\n",
       "      <td>R</td>\n",
       "      <td>Mexico</td>\n",
       "      <td>North America</td>\n",
       "      <td>2016</td>\n",
       "      <td>94</td>\n",
       "      <td>History</td>\n",
       "      <td>581</td>\n",
       "      <td>3</td>\n",
       "    </tr>\n",
       "    <tr>\n",
       "      <th>2</th>\n",
       "      <td>23:59</td>\n",
       "      <td>Gilbert Chan</td>\n",
       "      <td>1</td>\n",
       "      <td>R</td>\n",
       "      <td>Singapore</td>\n",
       "      <td>Asia</td>\n",
       "      <td>2011</td>\n",
       "      <td>78</td>\n",
       "      <td>Horror</td>\n",
       "      <td>860</td>\n",
       "      <td>2</td>\n",
       "    </tr>\n",
       "  </tbody>\n",
       "</table>\n",
       "</div>"
      ],
      "text/plain": [
       "   title           director  movie age_rating    country      continent  \\\n",
       "0   7:19  Jorge Michel Grau      1          R     Mexico  North America   \n",
       "1   7:19  Jorge Michel Grau      1          R     Mexico  North America   \n",
       "2  23:59       Gilbert Chan      1          R  Singapore           Asia   \n",
       "\n",
       "   release_year  runtimeMinutes   genres  numVotes  imdb_rating  \n",
       "0          2016              94    Drama       581            3  \n",
       "1          2016              94  History       581            3  \n",
       "2          2011              78   Horror       860            2  "
      ]
     },
     "execution_count": 55,
     "metadata": {},
     "output_type": "execute_result"
    }
   ],
   "source": [
    "df_final.head(3)"
   ]
  },
  {
   "cell_type": "markdown",
   "metadata": {},
   "source": [
    "## VISUALIZATION"
   ]
  },
  {
   "cell_type": "markdown",
   "metadata": {},
   "source": [
    "The count per continent:"
   ]
  },
  {
   "cell_type": "code",
   "execution_count": 56,
   "metadata": {},
   "outputs": [
    {
     "data": {
      "text/html": [
       "<div>\n",
       "<style scoped>\n",
       "    .dataframe tbody tr th:only-of-type {\n",
       "        vertical-align: middle;\n",
       "    }\n",
       "\n",
       "    .dataframe tbody tr th {\n",
       "        vertical-align: top;\n",
       "    }\n",
       "\n",
       "    .dataframe thead th {\n",
       "        text-align: right;\n",
       "    }\n",
       "</style>\n",
       "<table border=\"1\" class=\"dataframe\">\n",
       "  <thead>\n",
       "    <tr style=\"text-align: right;\">\n",
       "      <th></th>\n",
       "      <th>continent</th>\n",
       "      <th>title</th>\n",
       "    </tr>\n",
       "  </thead>\n",
       "  <tbody>\n",
       "    <tr>\n",
       "      <th>3</th>\n",
       "      <td>North America</td>\n",
       "      <td>6649</td>\n",
       "    </tr>\n",
       "    <tr>\n",
       "      <th>1</th>\n",
       "      <td>Asia</td>\n",
       "      <td>3857</td>\n",
       "    </tr>\n",
       "    <tr>\n",
       "      <th>2</th>\n",
       "      <td>Europe</td>\n",
       "      <td>3595</td>\n",
       "    </tr>\n",
       "    <tr>\n",
       "      <th>0</th>\n",
       "      <td>Africa</td>\n",
       "      <td>411</td>\n",
       "    </tr>\n",
       "    <tr>\n",
       "      <th>4</th>\n",
       "      <td>Oceanie</td>\n",
       "      <td>302</td>\n",
       "    </tr>\n",
       "    <tr>\n",
       "      <th>5</th>\n",
       "      <td>South America</td>\n",
       "      <td>296</td>\n",
       "    </tr>\n",
       "  </tbody>\n",
       "</table>\n",
       "</div>"
      ],
      "text/plain": [
       "       continent  title\n",
       "3  North America   6649\n",
       "1           Asia   3857\n",
       "2         Europe   3595\n",
       "0         Africa    411\n",
       "4        Oceanie    302\n",
       "5  South America    296"
      ]
     },
     "execution_count": 56,
     "metadata": {},
     "output_type": "execute_result"
    }
   ],
   "source": [
    "grouped = df_final.groupby('continent')['title'].count().reset_index()\n",
    "grouped.sort_values('title', ascending=False)"
   ]
  },
  {
   "cell_type": "code",
   "execution_count": 57,
   "metadata": {},
   "outputs": [
    {
     "data": {
      "image/png": "[encoded data removed]",
      "text/plain": [
       "<Figure size 576x360 with 1 Axes>"
      ]
     },
     "metadata": {},
     "output_type": "display_data"
    }
   ],
   "source": [
    "sns.set(style='whitegrid')\n",
    "plt.figure(figsize=(8,5))\n",
    "sns.countplot(x='continent', data=df_final, hue='movie')\n",
    "plt.show()"
   ]
  },
  {
   "cell_type": "markdown",
   "metadata": {},
   "source": [
    "There do not seem to be strong correlations between the columns."
   ]
  },
  {
   "cell_type": "code",
   "execution_count": 58,
   "metadata": {},
   "outputs": [
    {
     "data": {
      "image/png": "[encoded data removed]",
      "text/plain": [
       "<Figure size 1080x648 with 2 Axes>"
      ]
     },
     "metadata": {},
     "output_type": "display_data"
    }
   ],
   "source": [
    "corr = df_final.corr()\n",
    "\n",
    "# getting the upper triangle of the co-relation matrix\n",
    "matrix = np.triu(corr)\n",
    "\n",
    "# using the upper triangle matrix as mask\n",
    "f, ax = plt.subplots(figsize=(15, 9))\n",
    "sns.heatmap(corr, annot=True, mask=matrix, cmap='rocket_r');\n",
    "\n",
    "# last row shows the corr specific to 'Rain Toromorrow'"
   ]
  },
  {
   "cell_type": "markdown",
   "metadata": {},
   "source": [
    "The strongest correlation with 'imdb_rating' is a negative one with 'movie'."
   ]
  },
  {
   "cell_type": "code",
   "execution_count": 59,
   "metadata": {},
   "outputs": [],
   "source": [
    "numeric_df = df_final.select_dtypes(exclude='object')"
   ]
  },
  {
   "cell_type": "code",
   "execution_count": 60,
   "metadata": {},
   "outputs": [
    {
     "data": {
      "text/plain": [
       "movie            -0.170761\n",
       "release_year     -0.099554\n",
       "runtimeMinutes    0.010193\n",
       "numVotes          0.163354\n",
       "Name: imdb_rating, dtype: float64"
      ]
     },
     "execution_count": 60,
     "metadata": {},
     "output_type": "execute_result"
    }
   ],
   "source": [
    "numeric_df.corr()['imdb_rating'][:-1].sort_values()"
   ]
  },
  {
   "cell_type": "markdown",
   "metadata": {},
   "source": [
    "It is difficult to see patterns in a pairplot because of the mutiple classes."
   ]
  },
  {
   "cell_type": "code",
   "execution_count": 61,
   "metadata": {},
   "outputs": [
    {
     "data": {
      "text/plain": [
       "<seaborn.axisgrid.PairGrid at 0x7fc5877952e0>"
      ]
     },
     "execution_count": 61,
     "metadata": {},
     "output_type": "execute_result"
    },
    {
     "data": {
      "image/png": "[encoded data removed]",
      "text/plain": [
       "<Figure size 791.175x720 with 20 Axes>"
      ]
     },
     "metadata": {},
     "output_type": "display_data"
    }
   ],
   "source": [
    "sns.pairplot(numeric_df,hue='imdb_rating')"
   ]
  },
  {
   "cell_type": "markdown",
   "metadata": {},
   "source": [
    "Different counts by 'imdb_rating'. The highest count is by far class 4."
   ]
  },
  {
   "cell_type": "code",
   "execution_count": 62,
   "metadata": {},
   "outputs": [
    {
     "data": {
      "text/plain": [
       "<AxesSubplot:xlabel='imdb_rating', ylabel='count'>"
      ]
     },
     "execution_count": 62,
     "metadata": {},
     "output_type": "execute_result"
    },
    {
     "data": {
      "image/png": "[encoded data removed]",
      "text/plain": [
       "<Figure size 432x288 with 1 Axes>"
      ]
     },
     "metadata": {},
     "output_type": "display_data"
    }
   ],
   "source": [
    "sns.countplot(data= df_final, x='imdb_rating')"
   ]
  },
  {
   "cell_type": "markdown",
   "metadata": {},
   "source": [
    "# PREDICTING imdb_rating"
   ]
  },
  {
   "cell_type": "markdown",
   "metadata": {},
   "source": [
    "## TRAIN | TEST SPLIT"
   ]
  },
  {
   "cell_type": "code",
   "execution_count": 63,
   "metadata": {},
   "outputs": [
    {
     "name": "stdout",
     "output_type": "stream",
     "text": [
      "<class 'pandas.core.frame.DataFrame'>\n",
      "RangeIndex: 15110 entries, 0 to 15109\n",
      "Data columns (total 11 columns):\n",
      " #   Column          Non-Null Count  Dtype \n",
      "---  ------          --------------  ----- \n",
      " 0   title           15110 non-null  object\n",
      " 1   director        15110 non-null  object\n",
      " 2   movie           15110 non-null  int64 \n",
      " 3   age_rating      15110 non-null  object\n",
      " 4   country         15110 non-null  object\n",
      " 5   continent       15110 non-null  object\n",
      " 6   release_year    15110 non-null  int64 \n",
      " 7   runtimeMinutes  15110 non-null  int64 \n",
      " 8   genres          15110 non-null  object\n",
      " 9   numVotes        15110 non-null  int64 \n",
      " 10  imdb_rating     15110 non-null  int64 \n",
      "dtypes: int64(5), object(6)\n",
      "memory usage: 1.3+ MB\n"
     ]
    }
   ],
   "source": [
    "df_final.info()"
   ]
  },
  {
   "cell_type": "code",
   "execution_count": 64,
   "metadata": {},
   "outputs": [],
   "source": [
    "X = pd.get_dummies(df_final.drop(['title', 'director', 'country', 'imdb_rating'],axis=1),drop_first=True)\n",
    "y = df_final['imdb_rating']"
   ]
  },
  {
   "cell_type": "code",
   "execution_count": 65,
   "metadata": {},
   "outputs": [],
   "source": [
    "from sklearn.model_selection import train_test_split"
   ]
  },
  {
   "cell_type": "code",
   "execution_count": 66,
   "metadata": {},
   "outputs": [],
   "source": [
    "X_train, X_test, y_train, y_test = train_test_split(X, y, test_size=0.3, random_state=42)"
   ]
  },
  {
   "cell_type": "markdown",
   "metadata": {},
   "source": [
    "## RANDOM FOREST CLASSIFIER"
   ]
  },
  {
   "cell_type": "code",
   "execution_count": 67,
   "metadata": {},
   "outputs": [],
   "source": [
    "from sklearn.ensemble import RandomForestClassifier"
   ]
  },
  {
   "cell_type": "code",
   "execution_count": 68,
   "metadata": {},
   "outputs": [],
   "source": [
    "model = RandomForestClassifier(n_estimators=15,max_features='auto',random_state=42)"
   ]
  },
  {
   "cell_type": "code",
   "execution_count": 70,
   "metadata": {},
   "outputs": [
    {
     "data": {
      "text/plain": [
       "RandomForestClassifier(n_estimators=15, random_state=42)"
      ]
     },
     "execution_count": 70,
     "metadata": {},
     "output_type": "execute_result"
    }
   ],
   "source": [
    "model.fit(X_train,y_train)"
   ]
  },
  {
   "cell_type": "code",
   "execution_count": 71,
   "metadata": {},
   "outputs": [],
   "source": [
    "y_pred_rf = model.predict(X_test)"
   ]
  },
  {
   "cell_type": "markdown",
   "metadata": {},
   "source": [
    "## MODEL METRICS"
   ]
  },
  {
   "cell_type": "code",
   "execution_count": 72,
   "metadata": {},
   "outputs": [],
   "source": [
    "from sklearn.metrics import accuracy_score,confusion_matrix,classification_report,plot_confusion_matrix"
   ]
  },
  {
   "cell_type": "code",
   "execution_count": 73,
   "metadata": {},
   "outputs": [
    {
     "data": {
      "text/plain": [
       "0.7385837193911317"
      ]
     },
     "execution_count": 73,
     "metadata": {},
     "output_type": "execute_result"
    }
   ],
   "source": [
    "accuracy_score(y_test,y_pred_rf)"
   ]
  },
  {
   "cell_type": "code",
   "execution_count": 74,
   "metadata": {},
   "outputs": [
    {
     "data": {
      "text/plain": [
       "array([[   1,    5,   10,   17,    0],\n",
       "       [   5,  214,  108,  166,    2],\n",
       "       [   1,   91,  402,  441,    0],\n",
       "       [   2,   72,  190, 2706,    8],\n",
       "       [   0,    2,    4,   61,   25]])"
      ]
     },
     "execution_count": 74,
     "metadata": {},
     "output_type": "execute_result"
    }
   ],
   "source": [
    "confusion_matrix(y_test,y_pred_rf)"
   ]
  },
  {
   "cell_type": "code",
   "execution_count": 75,
   "metadata": {},
   "outputs": [
    {
     "data": {
      "text/plain": [
       "<sklearn.metrics._plot.confusion_matrix.ConfusionMatrixDisplay at 0x7fc58ed561f0>"
      ]
     },
     "execution_count": 75,
     "metadata": {},
     "output_type": "execute_result"
    },
    {
     "data": {
      "image/png": "[encoded data removed]",
      "text/plain": [
       "<Figure size 432x288 with 2 Axes>"
      ]
     },
     "metadata": {},
     "output_type": "display_data"
    }
   ],
   "source": [
    "plot_confusion_matrix(model,X_test,y_test, normalize='true')"
   ]
  },
  {
   "cell_type": "markdown",
   "metadata": {},
   "source": [
    "The overall accuracy was 73.9 %. The model did best with class 4, which is not surprisingly because class 4 had by far the largest sample size. "
   ]
  },
  {
   "cell_type": "code",
   "execution_count": 76,
   "metadata": {},
   "outputs": [
    {
     "name": "stdout",
     "output_type": "stream",
     "text": [
      "              precision    recall  f1-score   support\n",
      "\n",
      "           1       0.11      0.03      0.05        33\n",
      "           2       0.56      0.43      0.49       495\n",
      "           3       0.56      0.43      0.49       935\n",
      "           4       0.80      0.91      0.85      2978\n",
      "           5       0.71      0.27      0.39        92\n",
      "\n",
      "    accuracy                           0.74      4533\n",
      "   macro avg       0.55      0.41      0.45      4533\n",
      "weighted avg       0.72      0.74      0.72      4533\n",
      "\n"
     ]
    }
   ],
   "source": [
    "print(classification_report(y_test,y_pred_rf))"
   ]
  },
  {
   "cell_type": "markdown",
   "metadata": {
    "id": "zX49lFB6vhRl"
   },
   "source": [
    "# **CONCLUSION**\n",
    "\n",
    "It was fun coming back to this project and adding webscraped data from new sources. The subsets of the 'imdb_rating' classes would have to be better balanced to improve predictions."
   ]
  }
 ],
 "metadata": {
  "colab": {
   "collapsed_sections": [
    "BCeaKb1B4c4A",
    "DbQ8-qASJv4U",
    "JldvHxo_NmOn"
   ],
   "name": "Module_One_Project_Netflix_Data_Celia_Fuentes.ipynb",
   "provenance": []
  },
  "kernelspec": {
   "display_name": "Python 3",
   "language": "python",
   "name": "python3"
  },
  "language_info": {
   "codemirror_mode": {
    "name": "ipython",
    "version": 3
   },
   "file_extension": ".py",
   "mimetype": "text/x-python",
   "name": "python",
   "nbconvert_exporter": "python",
   "pygments_lexer": "ipython3",
   "version": "3.8.5"
  }
 },
 "nbformat": 4,
 "nbformat_minor": 1
}
